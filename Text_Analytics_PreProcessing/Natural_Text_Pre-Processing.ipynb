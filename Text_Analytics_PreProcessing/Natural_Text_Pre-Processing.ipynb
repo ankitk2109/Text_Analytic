{
 "cells": [
  {
   "cell_type": "markdown",
   "metadata": {},
   "source": [
    "## Q1.a\n",
    "### Reading file"
   ]
  },
  {
   "cell_type": "code",
   "execution_count": 11,
   "metadata": {},
   "outputs": [
    {
     "name": "stdout",
     "output_type": "stream",
     "text": [
      "Good Morning Mr. Singh.I believe Data Science, Artificial Intelligence (AI) and Machine Learning are going to be the cornerstone in shaping the future of the technology industry. India, U.S.A, Russia, China all major countries are looking forward to work in these technology. The revolution that is going to redefine human-computer interaction in the future is on its way, of which I wish to be a part of. I am applying for a Master in Data Analytics at your esteemed University. I am a person who has always had a profound passion and fascination for areas requiring an analytical approach. Right from early days at school, Mathematics has intrigued me. I scored'95 out of 100 and ranked no.1 in my engineering math subject. The most challenging of all problems were my favorites and obtaining solutions to them would leave me with a sheer feeling of ecstasy.\n",
      "During the first two years of undergraduate study, I studied courses like Theory of Computer Science, Data structure and File Systems, Microprocessor Based Design, Computer Organization and Systems Programming. These courses helped me gain a strong background in the fundamentals of Computer Science. These were aptly complemented by the laboratory courses. The challenging assignments that were a part of the laboratory courses helped me to develop the required technical and programming skills. During the last two years of my study, I took advanced courses like Artificial Intelligence, Compiler Design, Databases, Operating Systems, and Computer Networks.\n"
     ]
    }
   ],
   "source": [
    "fileHandle = open(r'C:\\Users\\AY\\Desktop\\Sample_text.txt','r')\n",
    "fileInput = fileHandle.read()\n",
    "print (fileInput)"
   ]
  },
  {
   "cell_type": "code",
   "execution_count": 12,
   "metadata": {},
   "outputs": [],
   "source": [
    "from nltk.tokenize import word_tokenize"
   ]
  },
  {
   "cell_type": "code",
   "execution_count": 13,
   "metadata": {},
   "outputs": [],
   "source": [
    "tokenized =  word_tokenize(fileInput)"
   ]
  },
  {
   "cell_type": "code",
   "execution_count": 14,
   "metadata": {},
   "outputs": [
    {
     "name": "stdout",
     "output_type": "stream",
     "text": [
      "['Good', 'Morning', 'Mr.', 'Singh.I', 'believe', 'Data', 'Science', ',', 'Artificial', 'Intelligence', '(', 'AI', ')', 'and', 'Machine', 'Learning', 'are', 'going', 'to', 'be', 'the', 'cornerstone', 'in', 'shaping', 'the', 'future', 'of', 'the', 'technology', 'industry', '.', 'India', ',', 'U.S.A', ',', 'Russia', ',', 'China', 'all', 'major', 'countries', 'are', 'looking', 'forward', 'to', 'work', 'in', 'these', 'technology', '.', 'The', 'revolution', 'that', 'is', 'going', 'to', 'redefine', 'human-computer', 'interaction', 'in', 'the', 'future', 'is', 'on', 'its', 'way', ',', 'of', 'which', 'I', 'wish', 'to', 'be', 'a', 'part', 'of', '.', 'I', 'am', 'applying', 'for', 'a', 'Master', 'in', 'Data', 'Analytics', 'at', 'your', 'esteemed', 'University', '.', 'I', 'am', 'a', 'person', 'who', 'has', 'always', 'had', 'a', 'profound', 'passion', 'and', 'fascination', 'for', 'areas', 'requiring', 'an', 'analytical', 'approach', '.', 'Right', 'from', 'early', 'days', 'at', 'school', ',', 'Mathematics', 'has', 'intrigued', 'me', '.', 'I', \"scored'95\", 'out', 'of', '100', 'and', 'ranked', 'no.1', 'in', 'my', 'engineering', 'math', 'subject', '.', 'The', 'most', 'challenging', 'of', 'all', 'problems', 'were', 'my', 'favorites', 'and', 'obtaining', 'solutions', 'to', 'them', 'would', 'leave', 'me', 'with', 'a', 'sheer', 'feeling', 'of', 'ecstasy', '.', 'During', 'the', 'first', 'two', 'years', 'of', 'undergraduate', 'study', ',', 'I', 'studied', 'courses', 'like', 'Theory', 'of', 'Computer', 'Science', ',', 'Data', 'structure', 'and', 'File', 'Systems', ',', 'Microprocessor', 'Based', 'Design', ',', 'Computer', 'Organization', 'and', 'Systems', 'Programming', '.', 'These', 'courses', 'helped', 'me', 'gain', 'a', 'strong', 'background', 'in', 'the', 'fundamentals', 'of', 'Computer', 'Science', '.', 'These', 'were', 'aptly', 'complemented', 'by', 'the', 'laboratory', 'courses', '.', 'The', 'challenging', 'assignments', 'that', 'were', 'a', 'part', 'of', 'the', 'laboratory', 'courses', 'helped', 'me', 'to', 'develop', 'the', 'required', 'technical', 'and', 'programming', 'skills', '.', 'During', 'the', 'last', 'two', 'years', 'of', 'my', 'study', ',', 'I', 'took', 'advanced', 'courses', 'like', 'Artificial', 'Intelligence', ',', 'Compiler', 'Design', ',', 'Databases', ',', 'Operating', 'Systems', ',', 'and', 'Computer', 'Networks', '.']\n"
     ]
    }
   ],
   "source": [
    "print(tokenized)"
   ]
  },
  {
   "cell_type": "markdown",
   "metadata": {},
   "source": [
    "## Q1.b\n",
    "### Normalization"
   ]
  },
  {
   "cell_type": "code",
   "execution_count": 15,
   "metadata": {},
   "outputs": [
    {
     "name": "stdout",
     "output_type": "stream",
     "text": [
      "['Good', 'Morning', 'Mr.', 'Singh.I', 'believe', 'Data', 'Science', ',', 'Artificial', 'Intelligence', '(', 'AI', ')', 'Machine', 'Learning', 'going', 'cornerstone', 'shaping', 'future', 'technology', 'industry', '.', 'India', ',', 'U.S.A', ',', 'Russia', ',', 'China', 'major', 'countries', 'looking', 'forward', 'work', 'technology', '.', 'The', 'revolution', 'going', 'redefine', 'human-computer', 'interaction', 'future', 'way', ',', 'I', 'wish', 'part', '.', 'I', 'applying', 'Master', 'Data', 'Analytics', 'esteemed', 'University', '.', 'I', 'person', 'always', 'profound', 'passion', 'fascination', 'areas', 'requiring', 'analytical', 'approach', '.', 'Right', 'early', 'days', 'school', ',', 'Mathematics', 'intrigued', '.', 'I', \"scored'95\", '100', 'ranked', 'no.1', 'engineering', 'math', 'subject', '.', 'The', 'challenging', 'problems', 'favorites', 'obtaining', 'solutions', 'would', 'leave', 'sheer', 'feeling', 'ecstasy', '.', 'During', 'first', 'two', 'years', 'undergraduate', 'study', ',', 'I', 'studied', 'courses', 'like', 'Theory', 'Computer', 'Science', ',', 'Data', 'structure', 'File', 'Systems', ',', 'Microprocessor', 'Based', 'Design', ',', 'Computer', 'Organization', 'Systems', 'Programming', '.', 'These', 'courses', 'helped', 'gain', 'strong', 'background', 'fundamentals', 'Computer', 'Science', '.', 'These', 'aptly', 'complemented', 'laboratory', 'courses', '.', 'The', 'challenging', 'assignments', 'part', 'laboratory', 'courses', 'helped', 'develop', 'required', 'technical', 'programming', 'skills', '.', 'During', 'last', 'two', 'years', 'study', ',', 'I', 'took', 'advanced', 'courses', 'like', 'Artificial', 'Intelligence', ',', 'Compiler', 'Design', ',', 'Databases', ',', 'Operating', 'Systems', ',', 'Computer', 'Networks', '.']\n"
     ]
    }
   ],
   "source": [
    "#Removal of Stop Words\n",
    "from nltk.corpus import stopwords\n",
    "stop_word= set(stopwords.words(\"english\"))\n",
    "filtered_list = []\n",
    "for w in tokenized:\n",
    "    if w not in stop_word:\n",
    "        filtered_list.append(w)\n",
    "print(filtered_list)"
   ]
  },
  {
   "cell_type": "code",
   "execution_count": 16,
   "metadata": {},
   "outputs": [
    {
     "name": "stdout",
     "output_type": "stream",
     "text": [
      "['good', 'morning', 'mr.', 'singh.i', 'believe', 'data', 'science', ',', 'artificial', 'intelligence', '(', 'ai', ')', 'machine', 'learning', 'going', 'cornerstone', 'shaping', 'future', 'technology', 'industry', '.', 'india', ',', 'u.s.a', ',', 'russia', ',', 'china', 'major', 'countries', 'looking', 'forward', 'work', 'technology', '.', 'the', 'revolution', 'going', 'redefine', 'human-computer', 'interaction', 'future', 'way', ',', 'i', 'wish', 'part', '.', 'i', 'applying', 'master', 'data', 'analytics', 'esteemed', 'university', '.', 'i', 'person', 'always', 'profound', 'passion', 'fascination', 'areas', 'requiring', 'analytical', 'approach', '.', 'right', 'early', 'days', 'school', ',', 'mathematics', 'intrigued', '.', 'i', \"scored'95\", '100', 'ranked', 'no.1', 'engineering', 'math', 'subject', '.', 'the', 'challenging', 'problems', 'favorites', 'obtaining', 'solutions', 'would', 'leave', 'sheer', 'feeling', 'ecstasy', '.', 'during', 'first', 'two', 'years', 'undergraduate', 'study', ',', 'i', 'studied', 'courses', 'like', 'theory', 'computer', 'science', ',', 'data', 'structure', 'file', 'systems', ',', 'microprocessor', 'based', 'design', ',', 'computer', 'organization', 'systems', 'programming', '.', 'these', 'courses', 'helped', 'gain', 'strong', 'background', 'fundamentals', 'computer', 'science', '.', 'these', 'aptly', 'complemented', 'laboratory', 'courses', '.', 'the', 'challenging', 'assignments', 'part', 'laboratory', 'courses', 'helped', 'develop', 'required', 'technical', 'programming', 'skills', '.', 'during', 'last', 'two', 'years', 'study', ',', 'i', 'took', 'advanced', 'courses', 'like', 'artificial', 'intelligence', ',', 'compiler', 'design', ',', 'databases', ',', 'operating', 'systems', ',', 'computer', 'networks', '.']\n"
     ]
    }
   ],
   "source": [
    "#Downsizing the tokenized words\n",
    "normalized_list = [w.lower() for w in filtered_list]\n",
    "print (normalized_list)"
   ]
  },
  {
   "cell_type": "markdown",
   "metadata": {},
   "source": [
    "## Q1.c\n",
    "### Tagging"
   ]
  },
  {
   "cell_type": "code",
   "execution_count": 17,
   "metadata": {},
   "outputs": [],
   "source": [
    "from nltk import pos_tag"
   ]
  },
  {
   "cell_type": "code",
   "execution_count": 18,
   "metadata": {},
   "outputs": [
    {
     "name": "stdout",
     "output_type": "stream",
     "text": [
      "[('good', 'JJ'), ('morning', 'NN'), ('mr.', 'NN'), ('singh.i', 'NNP'), ('believe', 'VBP'), ('data', 'NN'), ('science', 'NN'), (',', ','), ('artificial', 'JJ'), ('intelligence', 'NN'), ('(', '('), ('ai', 'NN'), (')', ')'), ('machine', 'NN'), ('learning', 'VBG'), ('going', 'VBG'), ('cornerstone', 'NN'), ('shaping', 'VBG'), ('future', 'JJ'), ('technology', 'NN'), ('industry', 'NN'), ('.', '.'), ('india', 'NN'), (',', ','), ('u.s.a', 'JJ'), (',', ','), ('russia', 'NN'), (',', ','), ('china', 'VBP'), ('major', 'JJ'), ('countries', 'NNS'), ('looking', 'VBG'), ('forward', 'RB'), ('work', 'NN'), ('technology', 'NN'), ('.', '.'), ('the', 'DT'), ('revolution', 'NN'), ('going', 'VBG'), ('redefine', 'JJ'), ('human-computer', 'JJ'), ('interaction', 'NN'), ('future', 'JJ'), ('way', 'NN'), (',', ','), ('i', 'JJ'), ('wish', 'JJ'), ('part', 'NN'), ('.', '.'), ('i', 'NN'), ('applying', 'VBG'), ('master', 'NN'), ('data', 'NNS'), ('analytics', 'NNS'), ('esteemed', 'VBD'), ('university', 'NN'), ('.', '.'), ('i', 'JJ'), ('person', 'NN'), ('always', 'RB'), ('profound', 'JJ'), ('passion', 'NN'), ('fascination', 'NN'), ('areas', 'NNS'), ('requiring', 'VBG'), ('analytical', 'JJ'), ('approach', 'NN'), ('.', '.'), ('right', 'JJ'), ('early', 'JJ'), ('days', 'NNS'), ('school', 'NN'), (',', ','), ('mathematics', 'NNS'), ('intrigued', 'VBD'), ('.', '.'), ('i', 'VB'), (\"scored'95\", 'VBP'), ('100', 'CD'), ('ranked', 'JJ'), ('no.1', 'JJ'), ('engineering', 'NN'), ('math', 'NN'), ('subject', 'NN'), ('.', '.'), ('the', 'DT'), ('challenging', 'VBG'), ('problems', 'NNS'), ('favorites', 'VBZ'), ('obtaining', 'VBG'), ('solutions', 'NNS'), ('would', 'MD'), ('leave', 'VB'), ('sheer', 'NN'), ('feeling', 'NN'), ('ecstasy', 'NN'), ('.', '.'), ('during', 'IN'), ('first', 'JJ'), ('two', 'CD'), ('years', 'NNS'), ('undergraduate', 'JJ'), ('study', 'NN'), (',', ','), ('i', 'VB'), ('studied', 'VBN'), ('courses', 'NNS'), ('like', 'IN'), ('theory', 'NN'), ('computer', 'NN'), ('science', 'NN'), (',', ','), ('data', 'NN'), ('structure', 'NN'), ('file', 'NN'), ('systems', 'NNS'), (',', ','), ('microprocessor', 'NN'), ('based', 'VBN'), ('design', 'NN'), (',', ','), ('computer', 'NN'), ('organization', 'NN'), ('systems', 'NNS'), ('programming', 'VBG'), ('.', '.'), ('these', 'DT'), ('courses', 'NNS'), ('helped', 'VBD'), ('gain', 'VB'), ('strong', 'JJ'), ('background', 'NN'), ('fundamentals', 'NNS'), ('computer', 'NN'), ('science', 'NN'), ('.', '.'), ('these', 'DT'), ('aptly', 'RB'), ('complemented', 'VBN'), ('laboratory', 'NN'), ('courses', 'NNS'), ('.', '.'), ('the', 'DT'), ('challenging', 'VBG'), ('assignments', 'NNS'), ('part', 'NN'), ('laboratory', 'NN'), ('courses', 'NNS'), ('helped', 'VBD'), ('develop', 'VB'), ('required', 'JJ'), ('technical', 'JJ'), ('programming', 'NN'), ('skills', 'NNS'), ('.', '.'), ('during', 'IN'), ('last', 'JJ'), ('two', 'CD'), ('years', 'NNS'), ('study', 'VBP'), (',', ','), ('i', 'JJ'), ('took', 'VBD'), ('advanced', 'JJ'), ('courses', 'NNS'), ('like', 'IN'), ('artificial', 'JJ'), ('intelligence', 'NN'), (',', ','), ('compiler', 'NN'), ('design', 'NN'), (',', ','), ('databases', 'NNS'), (',', ','), ('operating', 'VBG'), ('systems', 'NNS'), (',', ','), ('computer', 'NN'), ('networks', 'NNS'), ('.', '.')]\n"
     ]
    }
   ],
   "source": [
    "tagged = pos_tag(normalized_list)\n",
    "print(tagged)"
   ]
  },
  {
   "cell_type": "markdown",
   "metadata": {},
   "source": [
    "## Q2.a"
   ]
  },
  {
   "cell_type": "code",
   "execution_count": 64,
   "metadata": {},
   "outputs": [],
   "source": [
    "fileHandle_new = open(r\"C:\\Users\\AY\\Desktop\\Sample_text2.txt\",\"r\",encoding = 'utf-8' )\n",
    "file= fileHandle_new.read()"
   ]
  },
  {
   "cell_type": "code",
   "execution_count": 65,
   "metadata": {},
   "outputs": [
    {
     "name": "stdout",
     "output_type": "stream",
     "text": [
      "I have always believed there is magic in face-to-face human interactions. As a child struggling with undiagnosed dyslexia, I turned to people to learn about the world. As a young filmmaker, I came to find that some of the most emotionally impactful moments in a movie happen when characters meet each other’s gaze — in moments of confrontation or confession or love at first sight. Throughout my life, I’ve learned that such connections are more than just a storytelling device; they are the antidote to much of what ails us. I have come to believe that our ability to struggle, see one another better depends, quite literally, on us seeing each other at all.\n",
      "It turns out that humans are hardwired for 1-to-1 communication. We know, for example, that there are specific cells in our brain, known as “mirror neurons,” that discharge when we’re learning to imitate social cues from one another. Studies show that when mothers and babies look at each other, their brain waves actually sync up and produce oxytocin, a chemical often described as the “love hormone.” Evolutionary biologists even surmise that the whites of our eyes evolved so that we could better follow each other’s gaze.\n",
      "It is through face-to-face interaction that we develop the essential traits of social beings: empathy, trust, and mutual respect. And it’s in its absence that we often see the darker side of human nature. There’s a reason why we have a road rage problem, but not a sidewalk rage problem, why internet trolls can be so vicious online and so meek in real life. It’s as though we are more apt to humanize those we can see, and to dehumanize those we cannot.\n"
     ]
    }
   ],
   "source": [
    "print(file)"
   ]
  },
  {
   "cell_type": "code",
   "execution_count": 66,
   "metadata": {},
   "outputs": [],
   "source": [
    "from nltk.stem import PorterStemmer\n",
    "from nltk.tokenize import word_tokenize"
   ]
  },
  {
   "cell_type": "code",
   "execution_count": 67,
   "metadata": {},
   "outputs": [],
   "source": [
    "ps = PorterStemmer()"
   ]
  },
  {
   "cell_type": "code",
   "execution_count": 68,
   "metadata": {},
   "outputs": [
    {
     "name": "stdout",
     "output_type": "stream",
     "text": [
      "['I', 'have', 'always', 'believed', 'there', 'is', 'magic', 'in', 'face-to-face', 'human', 'interactions', '.', 'As', 'a', 'child', 'struggling', 'with', 'undiagnosed', 'dyslexia', ',', 'I', 'turned', 'to', 'people', 'to', 'learn', 'about', 'the', 'world', '.', 'As', 'a', 'young', 'filmmaker', ',', 'I', 'came', 'to', 'find', 'that', 'some', 'of', 'the', 'most', 'emotionally', 'impactful', 'moments', 'in', 'a', 'movie', 'happen', 'when', 'characters', 'meet', 'each', 'other', '’', 's', 'gaze', '—', 'in', 'moments', 'of', 'confrontation', 'or', 'confession', 'or', 'love', 'at', 'first', 'sight', '.', 'Throughout', 'my', 'life', ',', 'I', '’', 've', 'learned', 'that', 'such', 'connections', 'are', 'more', 'than', 'just', 'a', 'storytelling', 'device', ';', 'they', 'are', 'the', 'antidote', 'to', 'much', 'of', 'what', 'ails', 'us', '.', 'I', 'have', 'come', 'to', 'believe', 'that', 'our', 'ability', 'to', 'struggle', ',', 'see', 'one', 'another', 'better', 'depends', ',', 'quite', 'literally', ',', 'on', 'us', 'seeing', 'each', 'other', 'at', 'all', '.', 'It', 'turns', 'out', 'that', 'humans', 'are', 'hardwired', 'for', '1-to-1', 'communication', '.', 'We', 'know', ',', 'for', 'example', ',', 'that', 'there', 'are', 'specific', 'cells', 'in', 'our', 'brain', ',', 'known', 'as', '“', 'mirror', 'neurons', ',', '”', 'that', 'discharge', 'when', 'we', '’', 're', 'learning', 'to', 'imitate', 'social', 'cues', 'from', 'one', 'another', '.', 'Studies', 'show', 'that', 'when', 'mothers', 'and', 'babies', 'look', 'at', 'each', 'other', ',', 'their', 'brain', 'waves', 'actually', 'sync', 'up', 'and', 'produce', 'oxytocin', ',', 'a', 'chemical', 'often', 'described', 'as', 'the', '“', 'love', 'hormone.', '”', 'Evolutionary', 'biologists', 'even', 'surmise', 'that', 'the', 'whites', 'of', 'our', 'eyes', 'evolved', 'so', 'that', 'we', 'could', 'better', 'follow', 'each', 'other', '’', 's', 'gaze', '.', 'It', 'is', 'through', 'face-to-face', 'interaction', 'that', 'we', 'develop', 'the', 'essential', 'traits', 'of', 'social', 'beings', ':', 'empathy', ',', 'trust', ',', 'and', 'mutual', 'respect', '.', 'And', 'it', '’', 's', 'in', 'its', 'absence', 'that', 'we', 'often', 'see', 'the', 'darker', 'side', 'of', 'human', 'nature', '.', 'There', '’', 's', 'a', 'reason', 'why', 'we', 'have', 'a', 'road', 'rage', 'problem', ',', 'but', 'not', 'a', 'sidewalk', 'rage', 'problem', ',', 'why', 'internet', 'trolls', 'can', 'be', 'so', 'vicious', 'online', 'and', 'so', 'meek', 'in', 'real', 'life', '.', 'It', '’', 's', 'as', 'though', 'we', 'are', 'more', 'apt', 'to', 'humanize', 'those', 'we', 'can', 'see', ',', 'and', 'to', 'dehumanize', 'those', 'we', 'can', 'not', '.']\n"
     ]
    }
   ],
   "source": [
    "words = word_tokenize(file)\n",
    "print(words)"
   ]
  },
  {
   "cell_type": "code",
   "execution_count": 70,
   "metadata": {
    "scrolled": true
   },
   "outputs": [
    {
     "name": "stdout",
     "output_type": "stream",
     "text": [
      "['I', 'have', 'alway', 'believ', 'there', 'is', 'magic', 'in', 'face-to-fac', 'human', 'interact', '.', 'As', 'a', 'child', 'struggl', 'with', 'undiagnos', 'dyslexia', ',', 'I', 'turn', 'to', 'peopl', 'to', 'learn', 'about', 'the', 'world', '.', 'As', 'a', 'young', 'filmmak', ',', 'I', 'came', 'to', 'find', 'that', 'some', 'of', 'the', 'most', 'emot', 'impact', 'moment', 'in', 'a', 'movi', 'happen', 'when', 'charact', 'meet', 'each', 'other', '’', 's', 'gaze', '—', 'in', 'moment', 'of', 'confront', 'or', 'confess', 'or', 'love', 'at', 'first', 'sight', '.', 'throughout', 'my', 'life', ',', 'I', '’', 've', 'learn', 'that', 'such', 'connect', 'are', 'more', 'than', 'just', 'a', 'storytel', 'devic', ';', 'they', 'are', 'the', 'antidot', 'to', 'much', 'of', 'what', 'ail', 'us', '.', 'I', 'have', 'come', 'to', 'believ', 'that', 'our', 'abil', 'to', 'struggl', ',', 'see', 'one', 'anoth', 'better', 'depend', ',', 'quit', 'liter', ',', 'on', 'us', 'see', 'each', 'other', 'at', 'all', '.', 'It', 'turn', 'out', 'that', 'human', 'are', 'hardwir', 'for', '1-to-1', 'commun', '.', 'We', 'know', ',', 'for', 'exampl', ',', 'that', 'there', 'are', 'specif', 'cell', 'in', 'our', 'brain', ',', 'known', 'as', '“', 'mirror', 'neuron', ',', '”', 'that', 'discharg', 'when', 'we', '’', 're', 'learn', 'to', 'imit', 'social', 'cue', 'from', 'one', 'anoth', '.', 'studi', 'show', 'that', 'when', 'mother', 'and', 'babi', 'look', 'at', 'each', 'other', ',', 'their', 'brain', 'wave', 'actual', 'sync', 'up', 'and', 'produc', 'oxytocin', ',', 'a', 'chemic', 'often', 'describ', 'as', 'the', '“', 'love', 'hormone.', '”', 'evolutionari', 'biologist', 'even', 'surmis', 'that', 'the', 'white', 'of', 'our', 'eye', 'evolv', 'so', 'that', 'we', 'could', 'better', 'follow', 'each', 'other', '’', 's', 'gaze', '.', 'It', 'is', 'through', 'face-to-fac', 'interact', 'that', 'we', 'develop', 'the', 'essenti', 'trait', 'of', 'social', 'be', ':', 'empathi', ',', 'trust', ',', 'and', 'mutual', 'respect', '.', 'and', 'it', '’', 's', 'in', 'it', 'absenc', 'that', 'we', 'often', 'see', 'the', 'darker', 'side', 'of', 'human', 'natur', '.', 'there', '’', 's', 'a', 'reason', 'whi', 'we', 'have', 'a', 'road', 'rage', 'problem', ',', 'but', 'not', 'a', 'sidewalk', 'rage', 'problem', ',', 'whi', 'internet', 'troll', 'can', 'be', 'so', 'viciou', 'onlin', 'and', 'so', 'meek', 'in', 'real', 'life', '.', 'It', '’', 's', 'as', 'though', 'we', 'are', 'more', 'apt', 'to', 'human', 'those', 'we', 'can', 'see', ',', 'and', 'to', 'dehuman', 'those', 'we', 'can', 'not', '.']\n"
     ]
    }
   ],
   "source": [
    "porter_stem_list=[]\n",
    "for w in words:\n",
    "    porter_stem_list.append(ps.stem(w))\n",
    "print(porter_stem_list)"
   ]
  },
  {
   "cell_type": "markdown",
   "metadata": {},
   "source": [
    "## Q2.b"
   ]
  },
  {
   "cell_type": "code",
   "execution_count": 87,
   "metadata": {},
   "outputs": [],
   "source": [
    "from nltk.stem import WordNetLemmatizer\n",
    "from nltk import pos_tag"
   ]
  },
  {
   "cell_type": "code",
   "execution_count": 88,
   "metadata": {},
   "outputs": [],
   "source": [
    "wnlm = WordNetLemmatizer()"
   ]
  },
  {
   "cell_type": "code",
   "execution_count": 89,
   "metadata": {},
   "outputs": [
    {
     "name": "stdout",
     "output_type": "stream",
     "text": [
      "['I', 'have', 'always', 'believed', 'there', 'is', 'magic', 'in', 'face-to-face', 'human', 'interactions', '.', 'As', 'a', 'child', 'struggling', 'with', 'undiagnosed', 'dyslexia', ',', 'I', 'turned', 'to', 'people', 'to', 'learn', 'about', 'the', 'world', '.', 'As', 'a', 'young', 'filmmaker', ',', 'I', 'came', 'to', 'find', 'that', 'some', 'of', 'the', 'most', 'emotionally', 'impactful', 'moments', 'in', 'a', 'movie', 'happen', 'when', 'characters', 'meet', 'each', 'other', '’', 's', 'gaze', '—', 'in', 'moments', 'of', 'confrontation', 'or', 'confession', 'or', 'love', 'at', 'first', 'sight', '.', 'Throughout', 'my', 'life', ',', 'I', '’', 've', 'learned', 'that', 'such', 'connections', 'are', 'more', 'than', 'just', 'a', 'storytelling', 'device', ';', 'they', 'are', 'the', 'antidote', 'to', 'much', 'of', 'what', 'ails', 'us', '.', 'I', 'have', 'come', 'to', 'believe', 'that', 'our', 'ability', 'to', 'struggle', ',', 'see', 'one', 'another', 'better', 'depends', ',', 'quite', 'literally', ',', 'on', 'us', 'seeing', 'each', 'other', 'at', 'all', '.', 'It', 'turns', 'out', 'that', 'humans', 'are', 'hardwired', 'for', '1-to-1', 'communication', '.', 'We', 'know', ',', 'for', 'example', ',', 'that', 'there', 'are', 'specific', 'cells', 'in', 'our', 'brain', ',', 'known', 'as', '“', 'mirror', 'neurons', ',', '”', 'that', 'discharge', 'when', 'we', '’', 're', 'learning', 'to', 'imitate', 'social', 'cues', 'from', 'one', 'another', '.', 'Studies', 'show', 'that', 'when', 'mothers', 'and', 'babies', 'look', 'at', 'each', 'other', ',', 'their', 'brain', 'waves', 'actually', 'sync', 'up', 'and', 'produce', 'oxytocin', ',', 'a', 'chemical', 'often', 'described', 'as', 'the', '“', 'love', 'hormone.', '”', 'Evolutionary', 'biologists', 'even', 'surmise', 'that', 'the', 'whites', 'of', 'our', 'eyes', 'evolved', 'so', 'that', 'we', 'could', 'better', 'follow', 'each', 'other', '’', 's', 'gaze', '.', 'It', 'is', 'through', 'face-to-face', 'interaction', 'that', 'we', 'develop', 'the', 'essential', 'traits', 'of', 'social', 'beings', ':', 'empathy', ',', 'trust', ',', 'and', 'mutual', 'respect', '.', 'And', 'it', '’', 's', 'in', 'its', 'absence', 'that', 'we', 'often', 'see', 'the', 'darker', 'side', 'of', 'human', 'nature', '.', 'There', '’', 's', 'a', 'reason', 'why', 'we', 'have', 'a', 'road', 'rage', 'problem', ',', 'but', 'not', 'a', 'sidewalk', 'rage', 'problem', ',', 'why', 'internet', 'trolls', 'can', 'be', 'so', 'vicious', 'online', 'and', 'so', 'meek', 'in', 'real', 'life', '.', 'It', '’', 's', 'as', 'though', 'we', 'are', 'more', 'apt', 'to', 'humanize', 'those', 'we', 'can', 'see', ',', 'and', 'to', 'dehumanize', 'those', 'we', 'can', 'not', '.']\n"
     ]
    }
   ],
   "source": [
    "print(words)"
   ]
  },
  {
   "cell_type": "code",
   "execution_count": 90,
   "metadata": {},
   "outputs": [
    {
     "name": "stdout",
     "output_type": "stream",
     "text": [
      "[('I', 'PRP'), ('have', 'VBP'), ('always', 'RB'), ('believed', 'VBN'), ('there', 'EX'), ('is', 'VBZ'), ('magic', 'JJ'), ('in', 'IN'), ('face-to-face', 'JJ'), ('human', 'JJ'), ('interactions', 'NNS'), ('.', '.'), ('As', 'IN'), ('a', 'DT'), ('child', 'NN'), ('struggling', 'VBG'), ('with', 'IN'), ('undiagnosed', 'JJ'), ('dyslexia', 'NN'), (',', ','), ('I', 'PRP'), ('turned', 'VBD'), ('to', 'TO'), ('people', 'NNS'), ('to', 'TO'), ('learn', 'VB'), ('about', 'IN'), ('the', 'DT'), ('world', 'NN'), ('.', '.'), ('As', 'IN'), ('a', 'DT'), ('young', 'JJ'), ('filmmaker', 'NN'), (',', ','), ('I', 'PRP'), ('came', 'VBD'), ('to', 'TO'), ('find', 'VB'), ('that', 'DT'), ('some', 'DT'), ('of', 'IN'), ('the', 'DT'), ('most', 'RBS'), ('emotionally', 'RB'), ('impactful', 'JJ'), ('moments', 'NNS'), ('in', 'IN'), ('a', 'DT'), ('movie', 'NN'), ('happen', 'NN'), ('when', 'WRB'), ('characters', 'NNS'), ('meet', 'VBP'), ('each', 'DT'), ('other', 'JJ'), ('’', 'JJ'), ('s', 'NN'), ('gaze', 'NN'), ('—', 'NN'), ('in', 'IN'), ('moments', 'NNS'), ('of', 'IN'), ('confrontation', 'NN'), ('or', 'CC'), ('confession', 'NN'), ('or', 'CC'), ('love', 'VB'), ('at', 'IN'), ('first', 'JJ'), ('sight', 'NN'), ('.', '.'), ('Throughout', 'IN'), ('my', 'PRP$'), ('life', 'NN'), (',', ','), ('I', 'PRP'), ('’', 'VBP'), ('ve', 'RB'), ('learned', 'VBN'), ('that', 'IN'), ('such', 'JJ'), ('connections', 'NNS'), ('are', 'VBP'), ('more', 'JJR'), ('than', 'IN'), ('just', 'RB'), ('a', 'DT'), ('storytelling', 'JJ'), ('device', 'NN'), (';', ':'), ('they', 'PRP'), ('are', 'VBP'), ('the', 'DT'), ('antidote', 'NN'), ('to', 'TO'), ('much', 'RB'), ('of', 'IN'), ('what', 'WP'), ('ails', 'VBZ'), ('us', 'PRP'), ('.', '.'), ('I', 'PRP'), ('have', 'VBP'), ('come', 'VBN'), ('to', 'TO'), ('believe', 'VB'), ('that', 'IN'), ('our', 'PRP$'), ('ability', 'NN'), ('to', 'TO'), ('struggle', 'VB'), (',', ','), ('see', 'VB'), ('one', 'CD'), ('another', 'DT'), ('better', 'JJR'), ('depends', 'NNS'), (',', ','), ('quite', 'RB'), ('literally', 'RB'), (',', ','), ('on', 'IN'), ('us', 'PRP'), ('seeing', 'VBG'), ('each', 'DT'), ('other', 'JJ'), ('at', 'IN'), ('all', 'DT'), ('.', '.'), ('It', 'PRP'), ('turns', 'VBZ'), ('out', 'RP'), ('that', 'IN'), ('humans', 'NNS'), ('are', 'VBP'), ('hardwired', 'VBN'), ('for', 'IN'), ('1-to-1', 'JJ'), ('communication', 'NN'), ('.', '.'), ('We', 'PRP'), ('know', 'VBP'), (',', ','), ('for', 'IN'), ('example', 'NN'), (',', ','), ('that', 'IN'), ('there', 'EX'), ('are', 'VBP'), ('specific', 'JJ'), ('cells', 'NNS'), ('in', 'IN'), ('our', 'PRP$'), ('brain', 'NN'), (',', ','), ('known', 'VBN'), ('as', 'IN'), ('“', 'JJ'), ('mirror', 'NN'), ('neurons', 'NNS'), (',', ','), ('”', 'VBP'), ('that', 'IN'), ('discharge', 'NN'), ('when', 'WRB'), ('we', 'PRP'), ('’', 'VBP'), ('re', 'JJ'), ('learning', 'NN'), ('to', 'TO'), ('imitate', 'VB'), ('social', 'JJ'), ('cues', 'NNS'), ('from', 'IN'), ('one', 'CD'), ('another', 'DT'), ('.', '.'), ('Studies', 'VBZ'), ('show', 'VBP'), ('that', 'IN'), ('when', 'WRB'), ('mothers', 'NNS'), ('and', 'CC'), ('babies', 'NNS'), ('look', 'VBP'), ('at', 'IN'), ('each', 'DT'), ('other', 'JJ'), (',', ','), ('their', 'PRP$'), ('brain', 'NN'), ('waves', 'NNS'), ('actually', 'RB'), ('sync', 'VBP'), ('up', 'RP'), ('and', 'CC'), ('produce', 'VB'), ('oxytocin', 'NN'), (',', ','), ('a', 'DT'), ('chemical', 'NN'), ('often', 'RB'), ('described', 'VBN'), ('as', 'IN'), ('the', 'DT'), ('“', 'NNP'), ('love', 'NN'), ('hormone.', 'NN'), ('”', 'NNP'), ('Evolutionary', 'NNP'), ('biologists', 'NNS'), ('even', 'RB'), ('surmise', 'VBP'), ('that', 'IN'), ('the', 'DT'), ('whites', 'NNS'), ('of', 'IN'), ('our', 'PRP$'), ('eyes', 'NNS'), ('evolved', 'VBN'), ('so', 'RB'), ('that', 'IN'), ('we', 'PRP'), ('could', 'MD'), ('better', 'RB'), ('follow', 'VB'), ('each', 'DT'), ('other', 'JJ'), ('’', 'JJ'), ('s', 'NN'), ('gaze', 'NN'), ('.', '.'), ('It', 'PRP'), ('is', 'VBZ'), ('through', 'IN'), ('face-to-face', 'JJ'), ('interaction', 'NN'), ('that', 'IN'), ('we', 'PRP'), ('develop', 'VBP'), ('the', 'DT'), ('essential', 'JJ'), ('traits', 'NNS'), ('of', 'IN'), ('social', 'JJ'), ('beings', 'NNS'), (':', ':'), ('empathy', 'NN'), (',', ','), ('trust', 'NN'), (',', ','), ('and', 'CC'), ('mutual', 'JJ'), ('respect', 'NN'), ('.', '.'), ('And', 'CC'), ('it', 'PRP'), ('’', 'NNP'), ('s', 'VBZ'), ('in', 'IN'), ('its', 'PRP$'), ('absence', 'NN'), ('that', 'IN'), ('we', 'PRP'), ('often', 'RB'), ('see', 'VBP'), ('the', 'DT'), ('darker', 'NN'), ('side', 'NN'), ('of', 'IN'), ('human', 'JJ'), ('nature', 'NN'), ('.', '.'), ('There', 'EX'), ('’', 'JJ'), ('s', 'NN'), ('a', 'DT'), ('reason', 'NN'), ('why', 'WRB'), ('we', 'PRP'), ('have', 'VBP'), ('a', 'DT'), ('road', 'NN'), ('rage', 'NN'), ('problem', 'NN'), (',', ','), ('but', 'CC'), ('not', 'RB'), ('a', 'DT'), ('sidewalk', 'NN'), ('rage', 'NN'), ('problem', 'NN'), (',', ','), ('why', 'WRB'), ('internet', 'NN'), ('trolls', 'NNS'), ('can', 'MD'), ('be', 'VB'), ('so', 'RB'), ('vicious', 'JJ'), ('online', 'NN'), ('and', 'CC'), ('so', 'RB'), ('meek', 'JJ'), ('in', 'IN'), ('real', 'JJ'), ('life', 'NN'), ('.', '.'), ('It', 'PRP'), ('’', 'VBZ'), ('s', 'JJ'), ('as', 'IN'), ('though', 'IN'), ('we', 'PRP'), ('are', 'VBP'), ('more', 'RBR'), ('apt', 'JJ'), ('to', 'TO'), ('humanize', 'VB'), ('those', 'DT'), ('we', 'PRP'), ('can', 'MD'), ('see', 'VB'), (',', ','), ('and', 'CC'), ('to', 'TO'), ('dehumanize', 'VB'), ('those', 'DT'), ('we', 'PRP'), ('can', 'MD'), ('not', 'RB'), ('.', '.')]\n"
     ]
    }
   ],
   "source": [
    "tagged_words = pos_tag(words)\n",
    "print(tagged_words)"
   ]
  },
  {
   "cell_type": "code",
   "execution_count": 78,
   "metadata": {},
   "outputs": [
    {
     "name": "stdout",
     "output_type": "stream",
     "text": [
      "['I', 'have', 'always', 'believed', 'there', 'be', 'magic', 'in', 'face-to-face', 'human', 'interaction', '.', 'As', 'a', 'child', 'struggle', 'with', 'undiagnosed', 'dyslexia', ',', 'I', 'turn', 'to', 'people', 'to', 'learn', 'about', 'the', 'world', '.', 'As', 'a', 'young', 'filmmaker', ',', 'I', 'come', 'to', 'find', 'that', 'some', 'of', 'the', 'most', 'emotionally', 'impactful', 'moment', 'in', 'a', 'movie', 'happen', 'when', 'character', 'meet', 'each', 'other', '’', 's', 'gaze', '—', 'in', 'moment', 'of', 'confrontation', 'or', 'confession', 'or', 'love', 'at', 'first', 'sight', '.', 'Throughout', 'my', 'life', ',', 'I', '’', 've', 'learned', 'that', 'such', 'connection', 'are', 'more', 'than', 'just', 'a', 'storytelling', 'device', ';', 'they', 'are', 'the', 'antidote', 'to', 'much', 'of', 'what', 'ail', 'u', '.', 'I', 'have', 'come', 'to', 'believe', 'that', 'our', 'ability', 'to', 'struggle', ',', 'see', 'one', 'another', 'better', 'depends', ',', 'quite', 'literally', ',', 'on', 'u', 'see', 'each', 'other', 'at', 'all', '.', 'It', 'turn', 'out', 'that', 'human', 'are', 'hardwired', 'for', '1-to-1', 'communication', '.', 'We', 'know', ',', 'for', 'example', ',', 'that', 'there', 'are', 'specific', 'cell', 'in', 'our', 'brain', ',', 'known', 'a', '“', 'mirror', 'neuron', ',', '”', 'that', 'discharge', 'when', 'we', '’', 're', 'learning', 'to', 'imitate', 'social', 'cue', 'from', 'one', 'another', '.', 'Studies', 'show', 'that', 'when', 'mother', 'and', 'baby', 'look', 'at', 'each', 'other', ',', 'their', 'brain', 'wave', 'actually', 'sync', 'up', 'and', 'produce', 'oxytocin', ',', 'a', 'chemical', 'often', 'described', 'a', 'the', '“', 'love', 'hormone.', '”', 'Evolutionary', 'biologist', 'even', 'surmise', 'that', 'the', 'white', 'of', 'our', 'eye', 'evolved', 'so', 'that', 'we', 'could', 'better', 'follow', 'each', 'other', '’', 's', 'gaze', '.', 'It', 'be', 'through', 'face-to-face', 'interaction', 'that', 'we', 'develop', 'the', 'essential', 'trait', 'of', 'social', 'being', ':', 'empathy', ',', 'trust', ',', 'and', 'mutual', 'respect', '.', 'And', 'it', '’', 's', 'in', 'it', 'absence', 'that', 'we', 'often', 'see', 'the', 'darker', 'side', 'of', 'human', 'nature', '.', 'There', '’', 's', 'a', 'reason', 'why', 'we', 'have', 'a', 'road', 'rage', 'problem', ',', 'but', 'not', 'a', 'sidewalk', 'rage', 'problem', ',', 'why', 'internet', 'troll', 'can', 'be', 'so', 'vicious', 'online', 'and', 'so', 'meek', 'in', 'real', 'life', '.', 'It', '’', 's', 'a', 'though', 'we', 'are', 'more', 'apt', 'to', 'humanize', 'those', 'we', 'can', 'see', ',', 'and', 'to', 'dehumanize', 'those', 'we', 'can', 'not', '.']\n"
     ]
    }
   ],
   "source": [
    "\"\"\"for w in words:\n",
    "    print(lm.lemmatize(w))\"\"\"\n",
    "\n",
    "def convert_big_tags(tag):\n",
    "    if tag=='vbd' or tag=='vbg' or tag=='vbz':\n",
    "        return 'v'\n",
    "    else:\n",
    "        return 'n'\n",
    "wordNet_lemmatize_list=[]\n",
    "for w in tagged_words:\n",
    "    new_tag= convert_big_tags(w[1].lower())\n",
    "    #print ([w[0],new_tag])\n",
    "    output = wnlm.lemmatize(w[0], new_tag)\n",
    "    wordNet_lemmatize_list.append(output)\n",
    "print(wordNet_lemmatize_list)"
   ]
  },
  {
   "cell_type": "code",
   "execution_count": 97,
   "metadata": {},
   "outputs": [
    {
     "name": "stdout",
     "output_type": "stream",
     "text": [
      "[('I', 'n'), ('have', 'n'), ('always', 'r'), ('believed', 'n'), ('there', 'n'), ('be', 'v'), ('magic', 'a'), ('in', 'n'), ('face-to-face', 'a'), ('human', 'a'), ('interaction', 'n'), ('.', 'n'), ('As', 'n'), ('a', 'n'), ('child', 'n'), ('struggle', 'v'), ('with', 'n'), ('undiagnosed', 'a'), ('dyslexia', 'n'), (',', 'n'), ('I', 'n'), ('turn', 'v'), ('to', 'n'), ('people', 'n'), ('to', 'n'), ('learn', 'n'), ('about', 'n'), ('the', 'n'), ('world', 'n'), ('.', 'n'), ('As', 'n'), ('a', 'n'), ('young', 'a'), ('filmmaker', 'n'), (',', 'n'), ('I', 'n'), ('come', 'v'), ('to', 'n'), ('find', 'n'), ('that', 'n'), ('some', 'n'), ('of', 'n'), ('the', 'n'), ('most', 'r'), ('emotionally', 'r'), ('impactful', 'a'), ('moment', 'n'), ('in', 'n'), ('a', 'n'), ('movie', 'n'), ('happen', 'n'), ('when', 'n'), ('character', 'n'), ('meet', 'n'), ('each', 'n'), ('other', 'a'), ('’', 'a'), ('s', 'n'), ('gaze', 'n'), ('—', 'n'), ('in', 'n'), ('moment', 'n'), ('of', 'n'), ('confrontation', 'n'), ('or', 'n'), ('confession', 'n'), ('or', 'n'), ('love', 'n'), ('at', 'n'), ('first', 'a'), ('sight', 'n'), ('.', 'n'), ('Throughout', 'n'), ('my', 'n'), ('life', 'n'), (',', 'n'), ('I', 'n'), ('’', 'n'), ('ve', 'r'), ('learned', 'n'), ('that', 'n'), ('such', 'a'), ('connection', 'n'), ('are', 'n'), ('more', 'a'), ('than', 'n'), ('just', 'r'), ('a', 'n'), ('storytelling', 'a'), ('device', 'n'), (';', 'n'), ('they', 'n'), ('are', 'n'), ('the', 'n'), ('antidote', 'n'), ('to', 'n'), ('much', 'r'), ('of', 'n'), ('what', 'n'), ('ail', 'v'), ('u', 'n'), ('.', 'n'), ('I', 'n'), ('have', 'n'), ('come', 'n'), ('to', 'n'), ('believe', 'n'), ('that', 'n'), ('our', 'n'), ('ability', 'n'), ('to', 'n'), ('struggle', 'n'), (',', 'n'), ('see', 'n'), ('one', 'n'), ('another', 'n'), ('good', 'a'), ('depends', 'n'), (',', 'n'), ('quite', 'r'), ('literally', 'r'), (',', 'n'), ('on', 'n'), ('u', 'n'), ('see', 'v'), ('each', 'n'), ('other', 'a'), ('at', 'n'), ('all', 'n'), ('.', 'n'), ('It', 'n'), ('turn', 'v'), ('out', 'n'), ('that', 'n'), ('human', 'n'), ('are', 'n'), ('hardwired', 'n'), ('for', 'n'), ('1-to-1', 'a'), ('communication', 'n'), ('.', 'n'), ('We', 'n'), ('know', 'n'), (',', 'n'), ('for', 'n'), ('example', 'n'), (',', 'n'), ('that', 'n'), ('there', 'n'), ('are', 'n'), ('specific', 'a'), ('cell', 'n'), ('in', 'n'), ('our', 'n'), ('brain', 'n'), (',', 'n'), ('known', 'n'), ('a', 'n'), ('“', 'a'), ('mirror', 'n'), ('neuron', 'n'), (',', 'n'), ('”', 'n'), ('that', 'n'), ('discharge', 'n'), ('when', 'n'), ('we', 'n'), ('’', 'n'), ('re', 'a'), ('learning', 'n'), ('to', 'n'), ('imitate', 'n'), ('social', 'a'), ('cue', 'n'), ('from', 'n'), ('one', 'n'), ('another', 'n'), ('.', 'n'), ('Studies', 'v'), ('show', 'n'), ('that', 'n'), ('when', 'n'), ('mother', 'n'), ('and', 'n'), ('baby', 'n'), ('look', 'n'), ('at', 'n'), ('each', 'n'), ('other', 'a'), (',', 'n'), ('their', 'n'), ('brain', 'n'), ('wave', 'n'), ('actually', 'r'), ('sync', 'n'), ('up', 'n'), ('and', 'n'), ('produce', 'n'), ('oxytocin', 'n'), (',', 'n'), ('a', 'n'), ('chemical', 'n'), ('often', 'r'), ('described', 'n'), ('a', 'n'), ('the', 'n'), ('“', 'n'), ('love', 'n'), ('hormone.', 'n'), ('”', 'n'), ('Evolutionary', 'n'), ('biologist', 'n'), ('even', 'r'), ('surmise', 'n'), ('that', 'n'), ('the', 'n'), ('white', 'n'), ('of', 'n'), ('our', 'n'), ('eye', 'n'), ('evolved', 'n'), ('so', 'r'), ('that', 'n'), ('we', 'n'), ('could', 'n'), ('well', 'r'), ('follow', 'n'), ('each', 'n'), ('other', 'a'), ('’', 'a'), ('s', 'n'), ('gaze', 'n'), ('.', 'n'), ('It', 'n'), ('be', 'v'), ('through', 'n'), ('face-to-face', 'a'), ('interaction', 'n'), ('that', 'n'), ('we', 'n'), ('develop', 'n'), ('the', 'n'), ('essential', 'a'), ('trait', 'n'), ('of', 'n'), ('social', 'a'), ('being', 'n'), (':', 'n'), ('empathy', 'n'), (',', 'n'), ('trust', 'n'), (',', 'n'), ('and', 'n'), ('mutual', 'a'), ('respect', 'n'), ('.', 'n'), ('And', 'n'), ('it', 'n'), ('’', 'n'), ('s', 'v'), ('in', 'n'), ('it', 'n'), ('absence', 'n'), ('that', 'n'), ('we', 'n'), ('often', 'r'), ('see', 'n'), ('the', 'n'), ('darker', 'n'), ('side', 'n'), ('of', 'n'), ('human', 'a'), ('nature', 'n'), ('.', 'n'), ('There', 'n'), ('’', 'a'), ('s', 'n'), ('a', 'n'), ('reason', 'n'), ('why', 'n'), ('we', 'n'), ('have', 'n'), ('a', 'n'), ('road', 'n'), ('rage', 'n'), ('problem', 'n'), (',', 'n'), ('but', 'n'), ('not', 'r'), ('a', 'n'), ('sidewalk', 'n'), ('rage', 'n'), ('problem', 'n'), (',', 'n'), ('why', 'n'), ('internet', 'n'), ('troll', 'n'), ('can', 'n'), ('be', 'n'), ('so', 'r'), ('vicious', 'a'), ('online', 'n'), ('and', 'n'), ('so', 'r'), ('meek', 'a'), ('in', 'n'), ('real', 'a'), ('life', 'n'), ('.', 'n'), ('It', 'n'), ('’', 'v'), ('s', 'a'), ('a', 'n'), ('though', 'n'), ('we', 'n'), ('are', 'n'), ('more', 'r'), ('apt', 'a'), ('to', 'n'), ('humanize', 'n'), ('those', 'n'), ('we', 'n'), ('can', 'n'), ('see', 'n'), (',', 'n'), ('and', 'n'), ('to', 'n'), ('dehumanize', 'n'), ('those', 'n'), ('we', 'n'), ('can', 'n'), ('not', 'r'), ('.', 'n')]\n"
     ]
    }
   ],
   "source": [
    "def convert_big_tags(t):\n",
    "    if t=='vbd' or t=='vbg' or t=='vbz':\n",
    "        return 'v'\n",
    "    elif t == 'jj' or t == 'jjr' or t=='jjs':\n",
    "        return 'a'\n",
    "    elif t == 'rb' or t=='rbr' or t=='rbs':\n",
    "        return 'r'\n",
    "    else:\n",
    "        return 'n'\n",
    "wordNetlemma_list=[]\n",
    "for w in tagged_words:\n",
    "    new_tag = convert_big_tags(w[1].lower())\n",
    "    output = wnlm.lemmatize(w[0], new_tag)\n",
    "    tup=(output,new_tag)\n",
    "    #print(tup)\n",
    "    wordNetlemma_list.append(tup)\n",
    "print(wordNetlemma_list)"
   ]
  },
  {
   "cell_type": "markdown",
   "metadata": {},
   "source": [
    "## Q2.c"
   ]
  },
  {
   "cell_type": "code",
   "execution_count": 79,
   "metadata": {},
   "outputs": [],
   "source": [
    "from nltk.stem import PorterStemmer, WordNetLemmatizer\n",
    "from nltk.tokenize import word_tokenize"
   ]
  },
  {
   "cell_type": "code",
   "execution_count": 80,
   "metadata": {},
   "outputs": [],
   "source": [
    "fileHandle_new = open(r\"C:\\Users\\AY\\Desktop\\Sample_text2.txt\",\"r\",encoding = 'utf-8' )\n",
    "file= fileHandle_new.read()"
   ]
  },
  {
   "cell_type": "code",
   "execution_count": 81,
   "metadata": {},
   "outputs": [
    {
     "name": "stdout",
     "output_type": "stream",
     "text": [
      "I have always believed there is magic in face-to-face human interactions. As a child struggling with undiagnosed dyslexia, I turned to people to learn about the world. As a young filmmaker, I came to find that some of the most emotionally impactful moments in a movie happen when characters meet each other’s gaze — in moments of confrontation or confession or love at first sight. Throughout my life, I’ve learned that such connections are more than just a storytelling device; they are the antidote to much of what ails us. I have come to believe that our ability to struggle, see one another better depends, quite literally, on us seeing each other at all.\n",
      "It turns out that humans are hardwired for 1-to-1 communication. We know, for example, that there are specific cells in our brain, known as “mirror neurons,” that discharge when we’re learning to imitate social cues from one another. Studies show that when mothers and babies look at each other, their brain waves actually sync up and produce oxytocin, a chemical often described as the “love hormone.” Evolutionary biologists even surmise that the whites of our eyes evolved so that we could better follow each other’s gaze.\n",
      "It is through face-to-face interaction that we develop the essential traits of social beings: empathy, trust, and mutual respect. And it’s in its absence that we often see the darker side of human nature. There’s a reason why we have a road rage problem, but not a sidewalk rage problem, why internet trolls can be so vicious online and so meek in real life. It’s as though we are more apt to humanize those we can see, and to dehumanize those we cannot.\n"
     ]
    }
   ],
   "source": [
    "print(file)"
   ]
  },
  {
   "cell_type": "code",
   "execution_count": 82,
   "metadata": {},
   "outputs": [
    {
     "name": "stdout",
     "output_type": "stream",
     "text": [
      "['I', 'have', 'always', 'believed', 'there', 'is', 'magic', 'in', 'face-to-face', 'human', 'interactions', '.', 'As', 'a', 'child', 'struggling', 'with', 'undiagnosed', 'dyslexia', ',', 'I', 'turned', 'to', 'people', 'to', 'learn', 'about', 'the', 'world', '.', 'As', 'a', 'young', 'filmmaker', ',', 'I', 'came', 'to', 'find', 'that', 'some', 'of', 'the', 'most', 'emotionally', 'impactful', 'moments', 'in', 'a', 'movie', 'happen', 'when', 'characters', 'meet', 'each', 'other', '’', 's', 'gaze', '—', 'in', 'moments', 'of', 'confrontation', 'or', 'confession', 'or', 'love', 'at', 'first', 'sight', '.', 'Throughout', 'my', 'life', ',', 'I', '’', 've', 'learned', 'that', 'such', 'connections', 'are', 'more', 'than', 'just', 'a', 'storytelling', 'device', ';', 'they', 'are', 'the', 'antidote', 'to', 'much', 'of', 'what', 'ails', 'us', '.', 'I', 'have', 'come', 'to', 'believe', 'that', 'our', 'ability', 'to', 'struggle', ',', 'see', 'one', 'another', 'better', 'depends', ',', 'quite', 'literally', ',', 'on', 'us', 'seeing', 'each', 'other', 'at', 'all', '.', 'It', 'turns', 'out', 'that', 'humans', 'are', 'hardwired', 'for', '1-to-1', 'communication', '.', 'We', 'know', ',', 'for', 'example', ',', 'that', 'there', 'are', 'specific', 'cells', 'in', 'our', 'brain', ',', 'known', 'as', '“', 'mirror', 'neurons', ',', '”', 'that', 'discharge', 'when', 'we', '’', 're', 'learning', 'to', 'imitate', 'social', 'cues', 'from', 'one', 'another', '.', 'Studies', 'show', 'that', 'when', 'mothers', 'and', 'babies', 'look', 'at', 'each', 'other', ',', 'their', 'brain', 'waves', 'actually', 'sync', 'up', 'and', 'produce', 'oxytocin', ',', 'a', 'chemical', 'often', 'described', 'as', 'the', '“', 'love', 'hormone.', '”', 'Evolutionary', 'biologists', 'even', 'surmise', 'that', 'the', 'whites', 'of', 'our', 'eyes', 'evolved', 'so', 'that', 'we', 'could', 'better', 'follow', 'each', 'other', '’', 's', 'gaze', '.', 'It', 'is', 'through', 'face-to-face', 'interaction', 'that', 'we', 'develop', 'the', 'essential', 'traits', 'of', 'social', 'beings', ':', 'empathy', ',', 'trust', ',', 'and', 'mutual', 'respect', '.', 'And', 'it', '’', 's', 'in', 'its', 'absence', 'that', 'we', 'often', 'see', 'the', 'darker', 'side', 'of', 'human', 'nature', '.', 'There', '’', 's', 'a', 'reason', 'why', 'we', 'have', 'a', 'road', 'rage', 'problem', ',', 'but', 'not', 'a', 'sidewalk', 'rage', 'problem', ',', 'why', 'internet', 'trolls', 'can', 'be', 'so', 'vicious', 'online', 'and', 'so', 'meek', 'in', 'real', 'life', '.', 'It', '’', 's', 'as', 'though', 'we', 'are', 'more', 'apt', 'to', 'humanize', 'those', 'we', 'can', 'see', ',', 'and', 'to', 'dehumanize', 'those', 'we', 'can', 'not', '.']\n"
     ]
    }
   ],
   "source": [
    "tokenize_words= word_tokenize(file)\n",
    "print (tokenize_words)"
   ]
  },
  {
   "cell_type": "code",
   "execution_count": 83,
   "metadata": {},
   "outputs": [],
   "source": [
    "ps = PorterStemmer()"
   ]
  },
  {
   "cell_type": "code",
   "execution_count": 84,
   "metadata": {},
   "outputs": [
    {
     "name": "stdout",
     "output_type": "stream",
     "text": [
      "['I', 'have', 'alway', 'believ', 'there', 'is', 'magic', 'in', 'face-to-fac', 'human', 'interact', '.', 'As', 'a', 'child', 'struggl', 'with', 'undiagnos', 'dyslexia', ',', 'I', 'turn', 'to', 'peopl', 'to', 'learn', 'about', 'the', 'world', '.', 'As', 'a', 'young', 'filmmak', ',', 'I', 'came', 'to', 'find', 'that', 'some', 'of', 'the', 'most', 'emot', 'impact', 'moment', 'in', 'a', 'movi', 'happen', 'when', 'charact', 'meet', 'each', 'other', '’', 's', 'gaze', '—', 'in', 'moment', 'of', 'confront', 'or', 'confess', 'or', 'love', 'at', 'first', 'sight', '.', 'throughout', 'my', 'life', ',', 'I', '’', 've', 'learn', 'that', 'such', 'connect', 'are', 'more', 'than', 'just', 'a', 'storytel', 'devic', ';', 'they', 'are', 'the', 'antidot', 'to', 'much', 'of', 'what', 'ail', 'us', '.', 'I', 'have', 'come', 'to', 'believ', 'that', 'our', 'abil', 'to', 'struggl', ',', 'see', 'one', 'anoth', 'better', 'depend', ',', 'quit', 'liter', ',', 'on', 'us', 'see', 'each', 'other', 'at', 'all', '.', 'It', 'turn', 'out', 'that', 'human', 'are', 'hardwir', 'for', '1-to-1', 'commun', '.', 'We', 'know', ',', 'for', 'exampl', ',', 'that', 'there', 'are', 'specif', 'cell', 'in', 'our', 'brain', ',', 'known', 'as', '“', 'mirror', 'neuron', ',', '”', 'that', 'discharg', 'when', 'we', '’', 're', 'learn', 'to', 'imit', 'social', 'cue', 'from', 'one', 'anoth', '.', 'studi', 'show', 'that', 'when', 'mother', 'and', 'babi', 'look', 'at', 'each', 'other', ',', 'their', 'brain', 'wave', 'actual', 'sync', 'up', 'and', 'produc', 'oxytocin', ',', 'a', 'chemic', 'often', 'describ', 'as', 'the', '“', 'love', 'hormone.', '”', 'evolutionari', 'biologist', 'even', 'surmis', 'that', 'the', 'white', 'of', 'our', 'eye', 'evolv', 'so', 'that', 'we', 'could', 'better', 'follow', 'each', 'other', '’', 's', 'gaze', '.', 'It', 'is', 'through', 'face-to-fac', 'interact', 'that', 'we', 'develop', 'the', 'essenti', 'trait', 'of', 'social', 'be', ':', 'empathi', ',', 'trust', ',', 'and', 'mutual', 'respect', '.', 'and', 'it', '’', 's', 'in', 'it', 'absenc', 'that', 'we', 'often', 'see', 'the', 'darker', 'side', 'of', 'human', 'natur', '.', 'there', '’', 's', 'a', 'reason', 'whi', 'we', 'have', 'a', 'road', 'rage', 'problem', ',', 'but', 'not', 'a', 'sidewalk', 'rage', 'problem', ',', 'whi', 'internet', 'troll', 'can', 'be', 'so', 'viciou', 'onlin', 'and', 'so', 'meek', 'in', 'real', 'life', '.', 'It', '’', 's', 'as', 'though', 'we', 'are', 'more', 'apt', 'to', 'human', 'those', 'we', 'can', 'see', ',', 'and', 'to', 'dehuman', 'those', 'we', 'can', 'not', '.']\n"
     ]
    }
   ],
   "source": [
    "stem_list=[]\n",
    "for w in tokenize_words:\n",
    "    stem_list.append(ps.stem(w))\n",
    "print (stem_list)"
   ]
  },
  {
   "cell_type": "code",
   "execution_count": 85,
   "metadata": {},
   "outputs": [
    {
     "name": "stdout",
     "output_type": "stream",
     "text": [
      "['I', 'have', 'always', 'believed', 'there', 'is', 'magic', 'in', 'face-to-face', 'human', 'interaction', '.', 'As', 'a', 'child', 'struggling', 'with', 'undiagnosed', 'dyslexia', ',', 'I', 'turned', 'to', 'people', 'to', 'learn', 'about', 'the', 'world', '.', 'As', 'a', 'young', 'filmmaker', ',', 'I', 'came', 'to', 'find', 'that', 'some', 'of', 'the', 'most', 'emotionally', 'impactful', 'moment', 'in', 'a', 'movie', 'happen', 'when', 'character', 'meet', 'each', 'other', '’', 's', 'gaze', '—', 'in', 'moment', 'of', 'confrontation', 'or', 'confession', 'or', 'love', 'at', 'first', 'sight', '.', 'Throughout', 'my', 'life', ',', 'I', '’', 've', 'learned', 'that', 'such', 'connection', 'are', 'more', 'than', 'just', 'a', 'storytelling', 'device', ';', 'they', 'are', 'the', 'antidote', 'to', 'much', 'of', 'what', 'ail', 'u', '.', 'I', 'have', 'come', 'to', 'believe', 'that', 'our', 'ability', 'to', 'struggle', ',', 'see', 'one', 'another', 'better', 'depends', ',', 'quite', 'literally', ',', 'on', 'u', 'seeing', 'each', 'other', 'at', 'all', '.', 'It', 'turn', 'out', 'that', 'human', 'are', 'hardwired', 'for', '1-to-1', 'communication', '.', 'We', 'know', ',', 'for', 'example', ',', 'that', 'there', 'are', 'specific', 'cell', 'in', 'our', 'brain', ',', 'known', 'a', '“', 'mirror', 'neuron', ',', '”', 'that', 'discharge', 'when', 'we', '’', 're', 'learning', 'to', 'imitate', 'social', 'cue', 'from', 'one', 'another', '.', 'Studies', 'show', 'that', 'when', 'mother', 'and', 'baby', 'look', 'at', 'each', 'other', ',', 'their', 'brain', 'wave', 'actually', 'sync', 'up', 'and', 'produce', 'oxytocin', ',', 'a', 'chemical', 'often', 'described', 'a', 'the', '“', 'love', 'hormone.', '”', 'Evolutionary', 'biologist', 'even', 'surmise', 'that', 'the', 'white', 'of', 'our', 'eye', 'evolved', 'so', 'that', 'we', 'could', 'better', 'follow', 'each', 'other', '’', 's', 'gaze', '.', 'It', 'is', 'through', 'face-to-face', 'interaction', 'that', 'we', 'develop', 'the', 'essential', 'trait', 'of', 'social', 'being', ':', 'empathy', ',', 'trust', ',', 'and', 'mutual', 'respect', '.', 'And', 'it', '’', 's', 'in', 'it', 'absence', 'that', 'we', 'often', 'see', 'the', 'darker', 'side', 'of', 'human', 'nature', '.', 'There', '’', 's', 'a', 'reason', 'why', 'we', 'have', 'a', 'road', 'rage', 'problem', ',', 'but', 'not', 'a', 'sidewalk', 'rage', 'problem', ',', 'why', 'internet', 'troll', 'can', 'be', 'so', 'vicious', 'online', 'and', 'so', 'meek', 'in', 'real', 'life', '.', 'It', '’', 's', 'a', 'though', 'we', 'are', 'more', 'apt', 'to', 'humanize', 'those', 'we', 'can', 'see', ',', 'and', 'to', 'dehumanize', 'those', 'we', 'can', 'not', '.']\n"
     ]
    }
   ],
   "source": [
    "wordNet_lemma_list=[]\n",
    "wnlm = WordNetLemmatizer()\n",
    "for w in tokenize_words:\n",
    "    wordNet_lemma_list.append(wnlm.lemmatize(w))\n",
    "print(wordNet_lemma_list)"
   ]
  },
  {
   "cell_type": "markdown",
   "metadata": {},
   "source": [
    "## Q3"
   ]
  },
  {
   "cell_type": "code",
   "execution_count": 21,
   "metadata": {},
   "outputs": [],
   "source": [
    "import urllib"
   ]
  },
  {
   "cell_type": "code",
   "execution_count": 22,
   "metadata": {},
   "outputs": [],
   "source": [
    "url=r'https://www.syncwithtech.org/member-only-content-free-medium/'"
   ]
  },
  {
   "cell_type": "code",
   "execution_count": 23,
   "metadata": {},
   "outputs": [
    {
     "data": {
      "text/plain": [
       "<http.client.HTTPResponse at 0x23d2fd2a390>"
      ]
     },
     "execution_count": 23,
     "metadata": {},
     "output_type": "execute_result"
    }
   ],
   "source": [
    "urllib.request.urlopen(url)"
   ]
  },
  {
   "cell_type": "code",
   "execution_count": 24,
   "metadata": {},
   "outputs": [],
   "source": [
    "rawhtml = urllib.request.urlopen(url).read()"
   ]
  },
  {
   "cell_type": "code",
   "execution_count": 25,
   "metadata": {},
   "outputs": [
    {
     "data": {
      "text/plain": [
       "b'<!DOCTYPE html>\\n<html>\\n<head>\\n\\n    <meta charset=\"utf-8\" />\\n    <meta http-equiv=\"X-UA-Compatible\" content=\"IE=edge\" />\\n\\n    <title>How to Read Medium Member-Only Articles for Free</title>\\n    <meta name=\"HandheldFriendly\" content=\"True\" />\\n    <meta name=\"viewport\" content=\"width=device-width, initial-scale=1.0\" />\\n\\n    <link rel=\"stylesheet\" type=\"text/css\" href=\"/assets/built/screen.css?v=57a79458be\" />\\n    <link href=\"https://fonts.googleapis.com/css?family=Roboto:400,700\" rel=\"stylesheet\" />\\n\\n    <meta name=\"description\" content=\"Not able to read the blog post from Medium newsletter just because you&#x27;re not a paid member? You can still enjoy the content for free. Know how.\" />\\n    <link rel=\"shortcut icon\" href=\"/favicon.ico\" type=\"image/x-icon\" />\\n    <link rel=\"canonical\" href=\"http://www.syncwithtech.org/member-only-content-free-medium/\" />\\n    <meta name=\"referrer\" content=\"no-referrer-when-downgrade\" />\\n    <link rel=\"amphtml\" href=\"http://www.syncwithtech.org/member-only-content-free-medium/amp/\" />\\n    \\n    <meta property=\"og:site_name\" content=\"Sync With Tech - Tech tips, tutorials, guides\" />\\n    <meta property=\"og:type\" content=\"article\" />\\n    <meta property=\"og:title\" content=\"How to Read Medium Member-Only Articles for Free\" />\\n    <meta property=\"og:description\" content=\"Not able to read the blog post from Medium newsletter just because you&#x27;re not a paid member? You can still enjoy the content for free. Know how.\" />\\n    <meta property=\"og:url\" content=\"http://www.syncwithtech.org/member-only-content-free-medium/\" />\\n    <meta property=\"og:image\" content=\"http://www.syncwithtech.org/content/images/2018/09/medium-membership-dialog.png\" />\\n    <meta property=\"article:published_time\" content=\"2018-09-23T22:12:11.000Z\" />\\n    <meta property=\"article:modified_time\" content=\"2018-09-23T22:12:11.000Z\" />\\n    <meta property=\"article:tag\" content=\"tips\" />\\n    \\n    <meta name=\"twitter:card\" content=\"summary_large_image\" />\\n    <meta name=\"twitter:title\" content=\"How to Read Medium Member-Only Articles for Free\" />\\n    <meta name=\"twitter:description\" content=\"Not able to read the blog post from Medium newsletter just because you&#x27;re not a paid member? You can still enjoy the content for free. Know how.\" />\\n    <meta name=\"twitter:url\" content=\"http://www.syncwithtech.org/member-only-content-free-medium/\" />\\n    <meta name=\"twitter:image\" content=\"http://www.syncwithtech.org/content/images/2018/09/medium-membership-dialog.png\" />\\n    <meta name=\"twitter:label1\" content=\"Written by\" />\\n    <meta name=\"twitter:data1\" content=\"Ganapathy S\" />\\n    <meta name=\"twitter:label2\" content=\"Filed under\" />\\n    <meta name=\"twitter:data2\" content=\"tips\" />\\n    <meta property=\"og:image:width\" content=\"813\" />\\n    <meta property=\"og:image:height\" content=\"382\" />\\n    \\n    <script type=\"application/ld+json\">\\n{\\n    \"@context\": \"https://schema.org\",\\n    \"@type\": \"Article\",\\n    \"publisher\": {\\n        \"@type\": \"Organization\",\\n        \"name\": \"Sync With Tech - Tech tips, tutorials, guides\",\\n        \"logo\": {\\n            \"@type\": \"ImageObject\",\\n            \"url\": \"http://www.syncwithtech.org/content/images/2018/01/sync-with-tech.png\",\\n            \"width\": 60,\\n            \"height\": 60\\n        }\\n    },\\n    \"author\": {\\n        \"@type\": \"Person\",\\n        \"name\": \"Ganapathy S\",\\n        \"image\": {\\n            \"@type\": \"ImageObject\",\\n            \"url\": \"//www.gravatar.com/avatar/cf69d1d53608e86191dac3f7ed66c78b?s=250&d=mm&r=x\",\\n            \"width\": 250,\\n            \"height\": 250\\n        },\\n        \"url\": \"http://www.syncwithtech.org/author/ganapathy/\",\\n        \"sameAs\": []\\n    },\\n    \"headline\": \"How to Read Medium Member-Only Articles for Free\",\\n    \"url\": \"https://www.syncwithtech.org/member-only-content-free-medium/\",\\n    \"datePublished\": \"2018-09-23T22:12:11.000Z\",\\n    \"dateModified\": \"2018-09-23T22:12:11.000Z\",\\n    \"image\": {\\n        \"@type\": \"ImageObject\",\\n        \"url\": \"http://www.syncwithtech.org/content/images/2018/09/medium-membership-dialog.png\",\\n        \"width\": 813,\\n        \"height\": 382\\n    },\\n    \"keywords\": \"tips\",\\n    \"description\": \"Not able to read the blog post from Medium newsletter just because you&#x27;re not a paid member? You can still enjoy the content for free. Know how.\",\\n    \"mainEntityOfPage\": {\\n        \"@type\": \"WebPage\",\\n        \"@id\": \"http://www.syncwithtech.org/\"\\n    }\\n}\\n    </script>\\n\\n    <script type=\"text/javascript\" src=\"/public/ghost-sdk.min.js?v=57a79458be\"></script>\\n<script type=\"text/javascript\">\\nghost.init({\\n\\tclientId: \"ghost-frontend\",\\n\\tclientSecret: \"5bf61ca84427\"\\n});\\n</script>\\n    <meta name=\"generator\" content=\"Ghost 1.19\" />\\n    <link rel=\"alternate\" type=\"application/rss+xml\" title=\"Sync With Tech - Tech tips, tutorials, guides\" href=\"https://www.syncwithtech.org/rss/\" />\\n    <script async src=\"//pagead2.googlesyndication.com/pagead/js/adsbygoogle.js\"></script>\\n<script>\\n  (adsbygoogle = window.adsbygoogle || []).push({\\n    google_ad_client: \"ca-pub-5271806763224437\",\\n    enable_page_level_ads: true\\n  });\\n</script>\\n\\n</head>\\n\\n<body class=\"post-template tag-tips\">\\n\\n    <header class=\"site-nav-logo\">\\n          <svg class=\"nav-button\" xmlns=\"http://www.w3.org/2000/svg\" viewBox=\"0 0 24 24\">\\n            <path d=\"M2 6h20v3H2zm0 5h20v3H2zm0 5h20v3H2z\"/>\\n          </svg>\\n\\n            <a class=\"link\" href=\"https://www.syncwithtech.org\">\\n                <img src=\"/content/images/2018/01/sync-with-tech.png\" alt=\"Sync With Tech - Tech tips, tutorials, guides\" />\\n            </a>\\n\\n            <nav id=\"menu\">\\n    <div class=\"menu-header\">\\n        <span class=\"menu-label\">Menu</span>\\n        <a class=\"menu-close\" data-action=\"menu\" data-target=\"menu\"></a>\\n    </div>\\n    <ul class=\"menu-list\">\\n        <li class=\"menu-list-item\">\\n            <a class=\"home\" href=\"https://www.syncwithtech.org/\">Home</a>\\n        </li>\\n        <li class=\"menu-list-item\">\\n            <a class=\"about\" href=\"https://www.syncwithtech.org/about/\">About</a>\\n        </li>\\n        <li class=\"menu-list-item\">\\n            <a class=\"contact\" href=\"https://www.syncwithtech.org/contact/\">Contact</a>\\n        </li>\\n        <li class=\"menu-list-item\">\\n            <a class=\"tags\" href=\"https://www.syncwithtech.org/tags/\">Tags</a>\\n        </li>\\n    </ul>\\n</nav>\\n\\n    </header>\\n\\n    <!-- post-header-ad-blogspot -->\\n    <ins class=\"adsbygoogle\" style=\"display:inline-block;width:728px;height:90px\" data-ad-client=\"ca-pub-5271806763224437\"\\n        data-ad-slot=\"7733905316\"></ins>\\n    <script>\\n        (adsbygoogle = window.adsbygoogle || []).push({});\\n    </script>\\n\\n    \\n    <main id=\"site-main\" class=\"site-main outer\" role=\"main\">\\n        <article class=\"post-full post tag-tips  \">\\n            <header class=\"post-full-header\">\\n                <div class=\"post-header-inner-wrapper\">\\n                    <h1 class=\"post-full-title\">How to Read Medium Member-Only Articles for Free</h1>\\n\\n                        <section class=\"post-full-meta\">\\n                            <div class=\"post-full-published-date\">\\n                                <span>\\n                                    Published:\\n                                    <time datetime=\"2018-09-23 \">23rd Sep, 2018</time>\\n                                </span>\\n                            </div>\\n\\n                            <div class=\"post-full-last-updated-date\">\\n                                <span>\\n                                    Last Updated:\\n                                    <time datetime=\"2018-09-23 \">23rd Sep, 2018</time>\\n                                </span>\\n                            </div>\\n\\n                            <div class=\"post-full-read-time fit-cont\">\\n                                <span>1 min read</span>\\n                            </div>\\n                        </section>\\n                </div>\\n            </header>\\n\\n            <section class=\"post-full-content\">\\n                <div class=\"kg-card-markdown\"><p>Medium is an awesome platform with a lot of great content. People love it. The newsletter they send is useful more often than not. Sometimes when you see a compelling title for a post and click on the link to read the article. You get this,</p>\\n<blockquote>\\n<p><strong>You read a lot. We like that.</strong><br>\\nYou\\xe2\\x80\\x99ve reached the end of your free member preview for this month. Become a member now for $5/month to read this story and get unlimited access to all of the best stories on Medium.</p>\\n</blockquote>\\n<p><img src=\"/content/images/2018/09/medium-membership-dialog.png\" alt=\"medium asks user to pay for membership\"></p>\\n<p>Same thing is applicable when you browse their homepage. Mostly 3 out of 5 articles are non-readable because you\\'re not a paid member. Membership costs about $5 a month. For some reason, you don\\'t want to pay 5 bucks to Medium every month. Fine. There\\'s a way you can read those member-only articles for free. Also, trust me we\\'re not going to do anything unethical here.</p>\\n<p>The simplest way would be opening the article in incognito mode. So, right-click \\xe2\\x86\\x92 Open link in incognito window. You can also sign out of your account to read the Medium post in a normal browser window.</p>\\n<h2 id=\"getridofannoyingpopupsscrollingnavbars\">Get rid of annoying popups &amp; scrolling navbars</h2>\\n<p>When you browse <a href=\\'https://medium.com/\\' target=\\'_blank\\'>Medium</a> without signing-in, you\\'ll be occasionally asked to sign-in. Also, you\\'ll see scrolling navbars which may negatively impact your reading experience. You can make use of <a href=\\'https://makemediumreadable.com/\\' target=\\'_blank\\'>make medium readable again</a> browser extension for a hassle-free reading experience.</p>\\n<h2 id=\"workaroundformediummobileapp\">Workaround for Medium mobile app</h2>\\n<p>On the mobile app, you can follow the same trick. Click on the hamburger menu in the top right corner. Then, select share \\xe2\\x86\\x92 Copy to clipboard. Now, your clipboard has the title of the article along with the link. Cut the link alone and paste it in an incognito/private browser window. You\\'ll be able to read the content.</p>\\n</div>\\n            </section>\\n\\n            <!-- post-footer-reactangle-ad -->\\n            <ins class=\"adsbygoogle\"\\n                style=\"display:inline-block;width:300px;height:250px\"\\n                data-ad-client=\"ca-pub-5271806763224437\"\\n                data-ad-slot=\"9822804618\"></ins>\\n\\n            <script>\\n                (adsbygoogle = window.adsbygoogle || []).push({});\\n            </script>\\n\\n                <footer class=\"post-full-footer\">\\n                    <div class=\"post-share-tags-container\">\\n                        <section class=\"post-full-share-buttons\">\\n                            <a class=\"facebook\" href=\"https://www.facebook.com/sharer/sharer.php?u=https://www.syncwithtech.org/member-only-content-free-medium/\" onclick=\"window.open(this.href, \\'share-facebook\\',\\'width=580,height=296\\');return false;\" target=\"_blank\">\\n                            </a>\\n                            <a class=\"twitter\" href=\"https://twitter.com/share?text=How%20to%20Read%20Medium%20Member-Only%20Articles%20for%20Free&amp;url=https://www.syncwithtech.org/member-only-content-free-medium/\" onclick=\"window.open(this.href, \\'share-twitter\\', \\'width=550,height=235\\');return false;\" target=\"_blank\">\\n                            </a>\\n                            <a class=\"gplus\" href=\"https://plus.google.com/share?url=https://www.syncwithtech.org/member-only-content-free-medium/\" onclick=\"window.open(this.href, \\'share-gplus\\',\\'width=400,height=296\\');return false;\" target=\"_blank\">\\n                            </a>\\n                            <a class=\"whatsapp\" href=\"whatsapp://send?text=https://www.syncwithtech.org/member-only-content-free-medium/\" >\\n                            </a>\\n                            <a class=\"linkedin\" href=\"https://www.linkedin.com/shareArticle?mini=true&url=https://www.syncwithtech.org/member-only-content-free-medium/\" onclick=\"window.open(this.href, \\'share-gplus\\',\\'width=400,height=296\\');return false;\" target=\"_blank\">\\n                            </a>\\n                        </section>\\n\\n                        <section class=\"post-full-tags\">\\n                            <ul>\\n                                <li>\\n                                    <a href=\"/tag/tips/\" title=\"Posts tagged under tips\" class=\"tag tag-5a68fa74a509ca4a17af47db tips\">tips</a>\\n                                </li>\\n                            </ul>\\n                        </section>\\n                    </div>\\n\\n                    <div class=\"clear\"></div>\\n\\n                    <section class=\"post-full-author\">\\n                                <img class=\"author-profile-image\" src=\"//www.gravatar.com/avatar/cf69d1d53608e86191dac3f7ed66c78b?s&#x3D;250&amp;d&#x3D;mm&amp;r&#x3D;x\" alt=\"Ganapathy S\" />\\n                            <p>Written by <a href=\"/about/\">Ganapathy</a>, a Web developer by profession and a tech enthusiast.</p>\\n                    </section>\\n\\n                    <section class=\"post-full-comments\">\\n                        <a class=\"comments\" onclick=\"loadDisqus();\"> <span>Comments</span></a>\\n                        <div id=\\'disqus_thread\\' />\\n                    </section>\\n                </footer>\\n        </article>\\n    </main>\\n\\n\\n\\n    <div class=\"overlay\"></div>\\n\\n    <footer class=\"site-footer\">\\n        <p>\\xc2\\xa9 2018&nbsp;&nbsp;Sync With Tech</p>\\n        <section class=\"site-footer-social-buttons\">\\n            <a class=\"facebook\" href=\"https://www.facebook.com/syncwithtech\" target=\"_blank\"></a>\\n            <a class=\"twitter\" href=\"https://twitter.com/syncwithtech\" target=\"_blank\"></a>\\n            <a class=\"gplus\" href=\"https://plus.google.com/103870110396890107549\" target=\"_blank\"></a>\\n        </section>\\n    </footer>\\n\\n    <script src=\"/assets/js/sitescript.js?v=57a79458be\"></script>\\n    <script src=\"/assets/js/prism.js?v=57a79458be\"></script>\\n\\n    <!-- Global site tag (gtag.js) - Google Analytics -->\\n    <script async src=\"https://www.googletagmanager.com/gtag/js?id=UA-42111122-4\"></script>\\n    <script>\\n        window.dataLayer = window.dataLayer || [];\\n        function gtag() { dataLayer.push(arguments); }\\n        gtag(\\'js\\', new Date());\\n\\n        gtag(\\'config\\', \\'UA-42111122-4\\');\\n    </script>\\n    \\n</body>\\n</html>\\n'"
      ]
     },
     "execution_count": 25,
     "metadata": {},
     "output_type": "execute_result"
    }
   ],
   "source": [
    "rawhtml"
   ]
  },
  {
   "cell_type": "code",
   "execution_count": 26,
   "metadata": {},
   "outputs": [],
   "source": [
    "from bs4 import BeautifulSoup"
   ]
  },
  {
   "cell_type": "code",
   "execution_count": 27,
   "metadata": {},
   "outputs": [],
   "source": [
    "soup = BeautifulSoup(rawhtml)"
   ]
  },
  {
   "cell_type": "code",
   "execution_count": 28,
   "metadata": {},
   "outputs": [
    {
     "data": {
      "text/plain": [
       "<title>How to Read Medium Member-Only Articles for Free</title>"
      ]
     },
     "execution_count": 28,
     "metadata": {},
     "output_type": "execute_result"
    }
   ],
   "source": [
    "soup.title"
   ]
  },
  {
   "cell_type": "code",
   "execution_count": 30,
   "metadata": {},
   "outputs": [
    {
     "data": {
      "text/plain": [
       "['html',\n",
       " '\\n',\n",
       " '\\n',\n",
       " '\\n',\n",
       " '\\n',\n",
       " 'How to Read Medium Member-Only Articles for Free',\n",
       " '\\n',\n",
       " '\\n',\n",
       " '\\n',\n",
       " '\\n',\n",
       " '\\n',\n",
       " '\\n',\n",
       " '\\n',\n",
       " '\\n',\n",
       " '\\n',\n",
       " '\\n',\n",
       " '\\n',\n",
       " '\\n',\n",
       " '\\n',\n",
       " '\\n',\n",
       " '\\n',\n",
       " '\\n',\n",
       " '\\n',\n",
       " '\\n',\n",
       " '\\n',\n",
       " '\\n',\n",
       " '\\n',\n",
       " '\\n',\n",
       " '\\n',\n",
       " '\\n',\n",
       " '\\n',\n",
       " '\\n',\n",
       " '\\n',\n",
       " '\\n',\n",
       " '\\n',\n",
       " '\\n',\n",
       " '\\n{\\n    \"@context\": \"https://schema.org\",\\n    \"@type\": \"Article\",\\n    \"publisher\": {\\n        \"@type\": \"Organization\",\\n        \"name\": \"Sync With Tech - Tech tips, tutorials, guides\",\\n        \"logo\": {\\n            \"@type\": \"ImageObject\",\\n            \"url\": \"http://www.syncwithtech.org/content/images/2018/01/sync-with-tech.png\",\\n            \"width\": 60,\\n            \"height\": 60\\n        }\\n    },\\n    \"author\": {\\n        \"@type\": \"Person\",\\n        \"name\": \"Ganapathy S\",\\n        \"image\": {\\n            \"@type\": \"ImageObject\",\\n            \"url\": \"//www.gravatar.com/avatar/cf69d1d53608e86191dac3f7ed66c78b?s=250&d=mm&r=x\",\\n            \"width\": 250,\\n            \"height\": 250\\n        },\\n        \"url\": \"http://www.syncwithtech.org/author/ganapathy/\",\\n        \"sameAs\": []\\n    },\\n    \"headline\": \"How to Read Medium Member-Only Articles for Free\",\\n    \"url\": \"https://www.syncwithtech.org/member-only-content-free-medium/\",\\n    \"datePublished\": \"2018-09-23T22:12:11.000Z\",\\n    \"dateModified\": \"2018-09-23T22:12:11.000Z\",\\n    \"image\": {\\n        \"@type\": \"ImageObject\",\\n        \"url\": \"http://www.syncwithtech.org/content/images/2018/09/medium-membership-dialog.png\",\\n        \"width\": 813,\\n        \"height\": 382\\n    },\\n    \"keywords\": \"tips\",\\n    \"description\": \"Not able to read the blog post from Medium newsletter just because you&#x27;re not a paid member? You can still enjoy the content for free. Know how.\",\\n    \"mainEntityOfPage\": {\\n        \"@type\": \"WebPage\",\\n        \"@id\": \"http://www.syncwithtech.org/\"\\n    }\\n}\\n    ',\n",
       " '\\n',\n",
       " '\\n',\n",
       " '\\nghost.init({\\n\\tclientId: \"ghost-frontend\",\\n\\tclientSecret: \"5bf61ca84427\"\\n});\\n',\n",
       " '\\n',\n",
       " '\\n',\n",
       " '\\n',\n",
       " '\\n',\n",
       " '\\n  (adsbygoogle = window.adsbygoogle || []).push({\\n    google_ad_client: \"ca-pub-5271806763224437\",\\n    enable_page_level_ads: true\\n  });\\n',\n",
       " '\\n',\n",
       " '\\n',\n",
       " '\\n',\n",
       " '\\n',\n",
       " '\\n',\n",
       " '\\n',\n",
       " '\\n',\n",
       " '\\n',\n",
       " '\\n',\n",
       " '\\n',\n",
       " '\\n',\n",
       " '\\n',\n",
       " 'Menu',\n",
       " '\\n',\n",
       " '\\n',\n",
       " '\\n',\n",
       " '\\n',\n",
       " '\\n',\n",
       " 'Home',\n",
       " '\\n',\n",
       " '\\n',\n",
       " '\\n',\n",
       " 'About',\n",
       " '\\n',\n",
       " '\\n',\n",
       " '\\n',\n",
       " 'Contact',\n",
       " '\\n',\n",
       " '\\n',\n",
       " '\\n',\n",
       " 'Tags',\n",
       " '\\n',\n",
       " '\\n',\n",
       " '\\n',\n",
       " '\\n',\n",
       " '\\n',\n",
       " ' post-header-ad-blogspot ',\n",
       " '\\n',\n",
       " '\\n',\n",
       " '\\n        (adsbygoogle = window.adsbygoogle || []).push({});\\n    ',\n",
       " '\\n',\n",
       " '\\n',\n",
       " '\\n',\n",
       " '\\n',\n",
       " '\\n',\n",
       " 'How to Read Medium Member-Only Articles for Free',\n",
       " '\\n',\n",
       " '\\n',\n",
       " '\\n',\n",
       " '\\n                                    Published:\\n                                    ',\n",
       " '23rd Sep, 2018',\n",
       " '\\n',\n",
       " '\\n',\n",
       " '\\n',\n",
       " '\\n',\n",
       " '\\n                                    Last Updated:\\n                                    ',\n",
       " '23rd Sep, 2018',\n",
       " '\\n',\n",
       " '\\n',\n",
       " '\\n',\n",
       " '\\n',\n",
       " '1 min read',\n",
       " '\\n',\n",
       " '\\n',\n",
       " '\\n',\n",
       " '\\n',\n",
       " '\\n',\n",
       " '\\n',\n",
       " 'Medium is an awesome platform with a lot of great content. People love it. The newsletter they send is useful more often than not. Sometimes when you see a compelling title for a post and click on the link to read the article. You get this,',\n",
       " '\\n',\n",
       " '\\n',\n",
       " 'You read a lot. We like that.',\n",
       " '\\nYou’ve reached the end of your free member preview for this month. Become a member now for $5/month to read this story and get unlimited access to all of the best stories on Medium.',\n",
       " '\\n',\n",
       " '\\n',\n",
       " '\\n',\n",
       " \"Same thing is applicable when you browse their homepage. Mostly 3 out of 5 articles are non-readable because you're not a paid member. Membership costs about $5 a month. For some reason, you don't want to pay 5 bucks to Medium every month. Fine. There's a way you can read those member-only articles for free. Also, trust me we're not going to do anything unethical here.\",\n",
       " '\\n',\n",
       " 'The simplest way would be opening the article in incognito mode. So, right-click → Open link in incognito window. You can also sign out of your account to read the Medium post in a normal browser window.',\n",
       " '\\n',\n",
       " 'Get rid of annoying popups & scrolling navbars',\n",
       " '\\n',\n",
       " 'When you browse ',\n",
       " 'Medium',\n",
       " \" without signing-in, you'll be occasionally asked to sign-in. Also, you'll see scrolling navbars which may negatively impact your reading experience. You can make use of \",\n",
       " 'make medium readable again',\n",
       " ' browser extension for a hassle-free reading experience.',\n",
       " '\\n',\n",
       " 'Workaround for Medium mobile app',\n",
       " '\\n',\n",
       " \"On the mobile app, you can follow the same trick. Click on the hamburger menu in the top right corner. Then, select share → Copy to clipboard. Now, your clipboard has the title of the article along with the link. Cut the link alone and paste it in an incognito/private browser window. You'll be able to read the content.\",\n",
       " '\\n',\n",
       " '\\n',\n",
       " '\\n',\n",
       " ' post-footer-reactangle-ad ',\n",
       " '\\n',\n",
       " '\\n',\n",
       " '\\n                (adsbygoogle = window.adsbygoogle || []).push({});\\n            ',\n",
       " '\\n',\n",
       " '\\n',\n",
       " '\\n',\n",
       " '\\n',\n",
       " '\\n',\n",
       " '\\n',\n",
       " '\\n',\n",
       " '\\n',\n",
       " '\\n',\n",
       " '\\n',\n",
       " '\\n',\n",
       " '\\n',\n",
       " '\\n',\n",
       " '\\n',\n",
       " '\\n',\n",
       " '\\n',\n",
       " '\\n',\n",
       " '\\n',\n",
       " 'tips',\n",
       " '\\n',\n",
       " '\\n',\n",
       " '\\n',\n",
       " '\\n',\n",
       " '\\n',\n",
       " '\\n',\n",
       " '\\n',\n",
       " '\\n',\n",
       " 'Written by ',\n",
       " 'Ganapathy',\n",
       " ', a Web developer by profession and a tech enthusiast.',\n",
       " '\\n',\n",
       " '\\n',\n",
       " '\\n',\n",
       " ' ',\n",
       " 'Comments',\n",
       " '\\n',\n",
       " '\\n',\n",
       " '\\n',\n",
       " '\\n',\n",
       " '\\n',\n",
       " '\\n',\n",
       " '\\n',\n",
       " '\\n',\n",
       " '© 2018\\xa0\\xa0Sync With Tech',\n",
       " '\\n',\n",
       " '\\n',\n",
       " '\\n',\n",
       " '\\n',\n",
       " '\\n',\n",
       " '\\n',\n",
       " '\\n',\n",
       " '\\n',\n",
       " '\\n',\n",
       " ' Global site tag (gtag.js) - Google Analytics ',\n",
       " '\\n',\n",
       " '\\n',\n",
       " \"\\n        window.dataLayer = window.dataLayer || [];\\n        function gtag() { dataLayer.push(arguments); }\\n        gtag('js', new Date());\\n\\n        gtag('config', 'UA-42111122-4');\\n    \",\n",
       " '\\n',\n",
       " '\\n',\n",
       " '\\n']"
      ]
     },
     "execution_count": 30,
     "metadata": {},
     "output_type": "execute_result"
    }
   ],
   "source": [
    "soup.find_all(text=True)"
   ]
  },
  {
   "cell_type": "code",
   "execution_count": 76,
   "metadata": {},
   "outputs": [
    {
     "data": {
      "text/plain": [
       "<body class=\"post-template tag-tips\">\n",
       "<header class=\"site-nav-logo\">\n",
       "<svg class=\"nav-button\" viewbox=\"0 0 24 24\" xmlns=\"http://www.w3.org/2000/svg\">\n",
       "<path d=\"M2 6h20v3H2zm0 5h20v3H2zm0 5h20v3H2z\"></path>\n",
       "</svg>\n",
       "<a class=\"link\" href=\"https://www.syncwithtech.org\">\n",
       "<img alt=\"Sync With Tech - Tech tips, tutorials, guides\" src=\"/content/images/2018/01/sync-with-tech.png\"/>\n",
       "</a>\n",
       "<nav id=\"menu\">\n",
       "<div class=\"menu-header\">\n",
       "<span class=\"menu-label\">Menu</span>\n",
       "<a class=\"menu-close\" data-action=\"menu\" data-target=\"menu\"></a>\n",
       "</div>\n",
       "<ul class=\"menu-list\">\n",
       "<li class=\"menu-list-item\">\n",
       "<a class=\"home\" href=\"https://www.syncwithtech.org/\">Home</a>\n",
       "</li>\n",
       "<li class=\"menu-list-item\">\n",
       "<a class=\"about\" href=\"https://www.syncwithtech.org/about/\">About</a>\n",
       "</li>\n",
       "<li class=\"menu-list-item\">\n",
       "<a class=\"contact\" href=\"https://www.syncwithtech.org/contact/\">Contact</a>\n",
       "</li>\n",
       "<li class=\"menu-list-item\">\n",
       "<a class=\"tags\" href=\"https://www.syncwithtech.org/tags/\">Tags</a>\n",
       "</li>\n",
       "</ul>\n",
       "</nav>\n",
       "</header>\n",
       "<!-- post-header-ad-blogspot -->\n",
       "<ins class=\"adsbygoogle\" data-ad-client=\"ca-pub-5271806763224437\" data-ad-slot=\"7733905316\" style=\"display:inline-block;width:728px;height:90px\"></ins>\n",
       "<script>\n",
       "        (adsbygoogle = window.adsbygoogle || []).push({});\n",
       "    </script>\n",
       "<main class=\"site-main outer\" id=\"site-main\" role=\"main\">\n",
       "<article class=\"post-full post tag-tips\">\n",
       "<header class=\"post-full-header\">\n",
       "<div class=\"post-header-inner-wrapper\">\n",
       "<h1 class=\"post-full-title\">How to Read Medium Member-Only Articles for Free</h1>\n",
       "<section class=\"post-full-meta\">\n",
       "<div class=\"post-full-published-date\">\n",
       "<span>\n",
       "                                    Published:\n",
       "                                    <time datetime=\"2018-09-23 \">23rd Sep, 2018</time>\n",
       "</span>\n",
       "</div>\n",
       "<div class=\"post-full-last-updated-date\">\n",
       "<span>\n",
       "                                    Last Updated:\n",
       "                                    <time datetime=\"2018-09-23 \">23rd Sep, 2018</time>\n",
       "</span>\n",
       "</div>\n",
       "<div class=\"post-full-read-time fit-cont\">\n",
       "<span>1 min read</span>\n",
       "</div>\n",
       "</section>\n",
       "</div>\n",
       "</header>\n",
       "<section class=\"post-full-content\">\n",
       "<div class=\"kg-card-markdown\"><p>Medium is an awesome platform with a lot of great content. People love it. The newsletter they send is useful more often than not. Sometimes when you see a compelling title for a post and click on the link to read the article. You get this,</p>\n",
       "<blockquote>\n",
       "<p><strong>You read a lot. We like that.</strong><br/>\n",
       "You’ve reached the end of your free member preview for this month. Become a member now for $5/month to read this story and get unlimited access to all of the best stories on Medium.</p>\n",
       "</blockquote>\n",
       "<p><img alt=\"medium asks user to pay for membership\" src=\"/content/images/2018/09/medium-membership-dialog.png\"/></p>\n",
       "<p>Same thing is applicable when you browse their homepage. Mostly 3 out of 5 articles are non-readable because you're not a paid member. Membership costs about $5 a month. For some reason, you don't want to pay 5 bucks to Medium every month. Fine. There's a way you can read those member-only articles for free. Also, trust me we're not going to do anything unethical here.</p>\n",
       "<p>The simplest way would be opening the article in incognito mode. So, right-click → Open link in incognito window. You can also sign out of your account to read the Medium post in a normal browser window.</p>\n",
       "<h2 id=\"getridofannoyingpopupsscrollingnavbars\">Get rid of annoying popups &amp; scrolling navbars</h2>\n",
       "<p>When you browse <a href=\"https://medium.com/\" target=\"_blank\">Medium</a> without signing-in, you'll be occasionally asked to sign-in. Also, you'll see scrolling navbars which may negatively impact your reading experience. You can make use of <a href=\"https://makemediumreadable.com/\" target=\"_blank\">make medium readable again</a> browser extension for a hassle-free reading experience.</p>\n",
       "<h2 id=\"workaroundformediummobileapp\">Workaround for Medium mobile app</h2>\n",
       "<p>On the mobile app, you can follow the same trick. Click on the hamburger menu in the top right corner. Then, select share → Copy to clipboard. Now, your clipboard has the title of the article along with the link. Cut the link alone and paste it in an incognito/private browser window. You'll be able to read the content.</p>\n",
       "</div>\n",
       "</section>\n",
       "<!-- post-footer-reactangle-ad -->\n",
       "<ins class=\"adsbygoogle\" data-ad-client=\"ca-pub-5271806763224437\" data-ad-slot=\"9822804618\" style=\"display:inline-block;width:300px;height:250px\"></ins>\n",
       "<script>\n",
       "                (adsbygoogle = window.adsbygoogle || []).push({});\n",
       "            </script>\n",
       "<footer class=\"post-full-footer\">\n",
       "<div class=\"post-share-tags-container\">\n",
       "<section class=\"post-full-share-buttons\">\n",
       "<a class=\"facebook\" href=\"https://www.facebook.com/sharer/sharer.php?u=https://www.syncwithtech.org/member-only-content-free-medium/\" onclick=\"window.open(this.href, 'share-facebook','width=580,height=296');return false;\" target=\"_blank\">\n",
       "</a>\n",
       "<a class=\"twitter\" href=\"https://twitter.com/share?text=How%20to%20Read%20Medium%20Member-Only%20Articles%20for%20Free&amp;url=https://www.syncwithtech.org/member-only-content-free-medium/\" onclick=\"window.open(this.href, 'share-twitter', 'width=550,height=235');return false;\" target=\"_blank\">\n",
       "</a>\n",
       "<a class=\"gplus\" href=\"https://plus.google.com/share?url=https://www.syncwithtech.org/member-only-content-free-medium/\" onclick=\"window.open(this.href, 'share-gplus','width=400,height=296');return false;\" target=\"_blank\">\n",
       "</a>\n",
       "<a class=\"whatsapp\" href=\"whatsapp://send?text=https://www.syncwithtech.org/member-only-content-free-medium/\">\n",
       "</a>\n",
       "<a class=\"linkedin\" href=\"https://www.linkedin.com/shareArticle?mini=true&amp;url=https://www.syncwithtech.org/member-only-content-free-medium/\" onclick=\"window.open(this.href, 'share-gplus','width=400,height=296');return false;\" target=\"_blank\">\n",
       "</a>\n",
       "</section>\n",
       "<section class=\"post-full-tags\">\n",
       "<ul>\n",
       "<li>\n",
       "<a class=\"tag tag-5a68fa74a509ca4a17af47db tips\" href=\"/tag/tips/\" title=\"Posts tagged under tips\">tips</a>\n",
       "</li>\n",
       "</ul>\n",
       "</section>\n",
       "</div>\n",
       "<div class=\"clear\"></div>\n",
       "<section class=\"post-full-author\">\n",
       "<img alt=\"Ganapathy S\" class=\"author-profile-image\" src=\"//www.gravatar.com/avatar/cf69d1d53608e86191dac3f7ed66c78b?s=250&amp;d=mm&amp;r=x\"/>\n",
       "<p>Written by <a href=\"/about/\">Ganapathy</a>, a Web developer by profession and a tech enthusiast.</p>\n",
       "</section>\n",
       "<section class=\"post-full-comments\">\n",
       "<a class=\"comments\" onclick=\"loadDisqus();\"> <span>Comments</span></a>\n",
       "<div id=\"disqus_thread\"></div>\n",
       "</section>\n",
       "</footer>\n",
       "</article>\n",
       "</main>\n",
       "<div class=\"overlay\"></div>\n",
       "<footer class=\"site-footer\">\n",
       "<p>© 2018  Sync With Tech</p>\n",
       "<section class=\"site-footer-social-buttons\">\n",
       "<a class=\"facebook\" href=\"https://www.facebook.com/syncwithtech\" target=\"_blank\"></a>\n",
       "<a class=\"twitter\" href=\"https://twitter.com/syncwithtech\" target=\"_blank\"></a>\n",
       "<a class=\"gplus\" href=\"https://plus.google.com/103870110396890107549\" target=\"_blank\"></a>\n",
       "</section>\n",
       "</footer>\n",
       "<script src=\"/assets/js/sitescript.js?v=57a79458be\"></script>\n",
       "<script src=\"/assets/js/prism.js?v=57a79458be\"></script>\n",
       "<!-- Global site tag (gtag.js) - Google Analytics -->\n",
       "<script async=\"\" src=\"https://www.googletagmanager.com/gtag/js?id=UA-42111122-4\"></script>\n",
       "<script>\n",
       "        window.dataLayer = window.dataLayer || [];\n",
       "        function gtag() { dataLayer.push(arguments); }\n",
       "        gtag('js', new Date());\n",
       "\n",
       "        gtag('config', 'UA-42111122-4');\n",
       "    </script>\n",
       "</body>"
      ]
     },
     "execution_count": 76,
     "metadata": {},
     "output_type": "execute_result"
    }
   ],
   "source": [
    "soup.body"
   ]
  },
  {
   "cell_type": "code",
   "execution_count": 34,
   "metadata": {},
   "outputs": [
    {
     "data": {
      "text/plain": [
       "<li class=\"menu-list-item\">\n",
       "<a class=\"home\" href=\"https://www.syncwithtech.org/\">Home</a>\n",
       "</li>"
      ]
     },
     "execution_count": 34,
     "metadata": {},
     "output_type": "execute_result"
    }
   ],
   "source": [
    "soup.find(class_ =\"menu-list-item\")"
   ]
  },
  {
   "cell_type": "code",
   "execution_count": null,
   "metadata": {},
   "outputs": [],
   "source": []
  }
 ],
 "metadata": {
  "kernelspec": {
   "display_name": "Python 3",
   "language": "python",
   "name": "python3"
  },
  "language_info": {
   "codemirror_mode": {
    "name": "ipython",
    "version": 3
   },
   "file_extension": ".py",
   "mimetype": "text/x-python",
   "name": "python",
   "nbconvert_exporter": "python",
   "pygments_lexer": "ipython3",
   "version": "3.7.3"
  }
 },
 "nbformat": 4,
 "nbformat_minor": 2
}
